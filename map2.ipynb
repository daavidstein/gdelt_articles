{
 "cells": [
  {
   "cell_type": "code",
   "execution_count": null,
   "metadata": {},
   "outputs": [],
   "source": [
    "import pandas as pd\n",
    "import iso3166\n",
    "import gdelt\n",
    "import plotly.express as px\n",
    "import numpy as np\n",
    "import plotlywidget\n",
    "from plotly.offline import iplot"
   ]
  },
  {
   "cell_type": "code",
   "execution_count": null,
   "metadata": {},
   "outputs": [],
   "source": [
    "countries = iso3166.countries_by_name"
   ]
  },
  {
   "cell_type": "code",
   "execution_count": null,
   "metadata": {},
   "outputs": [],
   "source": [
    "country_iso = pd.DataFrame(columns = ['country_name','abbr', 'iso'])\n",
    "\n",
    "for countryname in countries.keys():\n",
    "    country_iso = country_iso.append({'country_name':countryname, 'abbr':countries[countryname].alpha2, 'iso':countries[countryname].numeric }, ignore_index=True)"
   ]
  },
  {
   "cell_type": "code",
   "execution_count": null,
   "metadata": {},
   "outputs": [],
   "source": [
    "gd2 = gdelt.gdelt(version=2)\n",
    "results = gd2.Search(['2016 11 01'],table='events',coverage=True)"
   ]
  },
  {
   "cell_type": "code",
   "execution_count": null,
   "metadata": {},
   "outputs": [],
   "source": [
    "results_iso = pd.merge(results, country_iso, left_on='ActionGeo_CountryCode', right_on = 'abbr', how='inner')"
   ]
  },
  {
   "cell_type": "code",
   "execution_count": null,
   "metadata": {},
   "outputs": [],
   "source": [
    "US = results_iso[results_iso['country_name'] == \"UNITED STATES OF AMERICA\"]\n",
    "US.shape[0]"
   ]
  },
  {
   "cell_type": "code",
   "execution_count": null,
   "metadata": {
    "scrolled": true
   },
   "outputs": [],
   "source": [
    "import plotly.graph_objects as go\n",
    "import pandas as pd\n",
    "\n",
    "\n",
    "df = results\n",
    "\n",
    "#US = results_iso[results_iso['country_name'] == \"UNITED STATES OF AMERICA\"]\n",
    "UShead = US.head(500)\n",
    "\n",
    "fig = go.Figure()\n",
    "\n",
    "fig.add_trace(go.Scattergeo(\n",
    "    #locationmode = 'USA-states',\n",
    "    locationmode = 'ISO-3',\n",
    "\n",
    "    lon = UShead['ActionGeo_Long'],\n",
    "    lat = UShead['ActionGeo_Lat'],\n",
    "    hoverinfo = 'text',\n",
    "    text = UShead['Actor1CountryCode'],\n",
    "    mode = 'markers',\n",
    "    marker = dict(\n",
    "        size = 2,\n",
    "        color = 'rgb(255, 0, 0)',\n",
    "        line = dict(\n",
    "            width = 3,\n",
    "            color = 'rgba(68, 68, 68, 0)'\n",
    "        )\n",
    "    )))\n",
    "\n",
    "fig.update_layout(\n",
    "    title_text = 'GDELT',\n",
    "    showlegend = False,\n",
    "    geo = go.layout.Geo(\n",
    "        scope = 'north america',\n",
    "        projection_type = 'azimuthal equal area',\n",
    "        showland = True,\n",
    "        landcolor = 'rgb(243, 243, 243)',\n",
    "        countrycolor = 'rgb(204, 204, 204)',\n",
    "    ),\n",
    ")\n",
    "\n",
    "fig.show()\n"
   ]
  },
  {
   "cell_type": "code",
   "execution_count": null,
   "metadata": {},
   "outputs": [],
   "source": [
    "\n",
    "\n",
    "for i in range(UShead.shape[0]):\n",
    "    fig.add_trace(\n",
    "        go.Scattergeo(\n",
    "            locationmode = 'ISO-3',\n",
    "            lon = [UShead['Actor1Geo_Long'].tolist()[i], UShead['Actor2Geo_Long'].tolist()[i]],\n",
    "            lat = [UShead['Actor1Geo_Lat'].tolist()[i], UShead['Actor2Geo_Lat'].tolist()[i]],\n",
    "            mode = 'lines',\n",
    "            line = dict(width = 1,color = 'red'),\n",
    "            hoverinfo = 'text',\n",
    "            text = UShead[\"Actor1Name\"]\n",
    "\n",
    "          \n",
    "        )\n",
    "    )\n",
    "\n",
    "fig.update_layout(\n",
    "    title_text = 'GDELT',\n",
    "    showlegend = False,\n",
    "    geo = go.layout.Geo(\n",
    "        scope = 'north america',\n",
    "        projection_type = 'azimuthal equal area',\n",
    "        showland = True,\n",
    "        landcolor = 'rgb(243, 243, 243)',\n",
    "        countrycolor = 'rgb(204, 204, 204)',\n",
    "    ),\n",
    ")\n",
    "\n",
    "fig.show()"
   ]
  },
  {
   "cell_type": "code",
   "execution_count": null,
   "metadata": {},
   "outputs": [],
   "source": [
    "import plotly.graph_objects as go\n",
    "import pandas as pd\n",
    "\n",
    "df_airports = pd.read_csv('https://raw.githubusercontent.com/plotly/datasets/master/2011_february_us_airport_traffic.csv')\n",
    "df_airports.head()\n",
    "\n",
    "df_flight_paths = pd.read_csv('https://raw.githubusercontent.com/plotly/datasets/master/2011_february_aa_flight_paths.csv')\n",
    "df_flight_paths.head()\n",
    "\n",
    "fig = go.Figure()\n",
    "\n",
    "fig.add_trace(go.Scattergeo(\n",
    "    locationmode = 'USA-states',\n",
    "    lon = df_airports['long'],\n",
    "    lat = df_airports['lat'],\n",
    "    hoverinfo = 'text',\n",
    "    text = df_airports['airport'],\n",
    "    mode = 'markers',\n",
    "    marker = dict(\n",
    "        size = 2,\n",
    "        color = 'rgb(255, 0, 0)',\n",
    "        line = dict(\n",
    "            width = 3,\n",
    "            color = 'rgba(68, 68, 68, 0)'\n",
    "        )\n",
    "    )))\n",
    "\n",
    "for i in range(len(df_flight_paths)):\n",
    "    fig.add_trace(\n",
    "        go.Scattergeo(\n",
    "            locationmode = 'USA-states',\n",
    "            lon = [df_flight_paths['start_lon'][i], df_flight_paths['end_lon'][i]],\n",
    "            lat = [df_flight_paths['start_lat'][i], df_flight_paths['end_lat'][i]],\n",
    "            mode = 'lines',\n",
    "            line = dict(width = 1,color = 'red'),\n",
    "            opacity = float(df_flight_paths['cnt'][i]) / float(df_flight_paths['cnt'].max()),\n",
    "            name=\"second legend group\"\n",
    "        )\n",
    "    )\n",
    "\n",
    "fig.update_layout(\n",
    "    title_text = 'Feb. 2011 American Airline flight paths<br>(Hover for airport names)',\n",
    "    showlegend = False,\n",
    "    geo = go.layout.Geo(\n",
    "        scope = 'north america',\n",
    "        projection_type = 'azimuthal equal area',\n",
    "        showland = True,\n",
    "        landcolor = 'rgb(243, 243, 243)',\n",
    "        countrycolor = 'rgb(204, 204, 204)',\n",
    "    ),\n",
    ")\n",
    "\n",
    "fig.show()"
   ]
  },
  {
   "cell_type": "code",
   "execution_count": null,
   "metadata": {
    "scrolled": false
   },
   "outputs": [],
   "source": [
    "import plotly.graph_objects as go\n",
    "import pandas as pd\n",
    "\n",
    "my_fig = go.Figure()\n",
    "\n",
    "UShead = US.dropna(subset=['Actor1Name']).head(500)\n",
    "\n",
    "my_fig.add_trace(go.Scattergeo(\n",
    "    locationmode = 'USA-states',\n",
    "    lon = UShead['ActionGeo_Long'],\n",
    "    lat = UShead['ActionGeo_Lat'],\n",
    "    hoverinfo = 'text',\n",
    "    text = US[\"ActionGeo_FullName\"].str.slice(0,-15),\n",
    "    mode = 'markers',\n",
    "    marker = dict(\n",
    "        size = 2,\n",
    "        color = 'rgb(255, 0, 0)',\n",
    "        line = dict(\n",
    "            width = 3,\n",
    "            color = 'rgba(68, 68, 68, 0)'\n",
    "        )\n",
    "    )))\n",
    "\n",
    "\n",
    "\n",
    "for i in range(UShead.shape[0]):\n",
    "    my_fig.add_trace(\n",
    "        go.Scattergeo(\n",
    "            locationmode = 'ISO-3',\n",
    "            lon = [UShead['Actor1Geo_Long'].tolist()[i], UShead['Actor2Geo_Long'].tolist()[i]],\n",
    "            lat = [UShead['Actor1Geo_Lat'].tolist()[i], UShead['Actor2Geo_Lat'].tolist()[i]],\n",
    "            mode = 'lines',\n",
    "            line = dict(width = 1,color = 'red'),\n",
    "           # hoverinfo = 'text',\n",
    "            #text = UShead[\"Actor1Name\"]\n",
    "            hovertext = UShead[\"Actor1Name\"] +\" \" + US[\"ActionGeo_FullName\"].str.slice(0,-15),\n",
    "            hoverinfo = 'text'\n",
    "            #name= str(UShead[\"Actor1Name\"]) + \" \" + str(UShead[\"Actor2Name\"])\n",
    "          \n",
    "        )\n",
    "    )\n",
    "    \n",
    "my_fig.show()\n",
    "#Visualizing actors\n",
    "\n",
    "#color if actor1 = actor2\n",
    "#color if only actor1\n",
    "#color if only actor2\n",
    "#color if  actor1 not equal to actor2\n",
    "\n",
    "\n",
    "#Subset where rows have two actors\n",
    "#look at connections between them\n"
   ]
  },
  {
   "cell_type": "code",
   "execution_count": null,
   "metadata": {},
   "outputs": [],
   "source": [
    "\n",
    "for i in range(UShead.shape[0]):\n",
    "    my_fig.add_trace(\n",
    "        go.Scattergeo(\n",
    "            locationmode = 'ISO-3',\n",
    "            lon = [UShead['Actor1Geo_Long'].tolist()[i], UShead['Actor2Geo_Long'].tolist()[i]],\n",
    "            lat = [UShead['Actor1Geo_Lat'].tolist()[i], UShead['Actor2Geo_Lat'].tolist()[i]],\n",
    "            mode = 'lines',\n",
    "            line = dict(width = 1,color = 'red'),\n",
    "           # hoverinfo = 'text',\n",
    "            #text = UShead[\"Actor1Name\"]\n",
    "            hovertext = UShead[\"Actor1Name\"] +\" \" + US[\"ActionGeo_FullName\"].str.slice(0,-15),\n",
    "            hoverinfo = 'text'\n",
    "            #name= str(UShead[\"Actor1Name\"]) + \" \" + str(UShead[\"Actor2Name\"])\n",
    "          \n",
    "        )\n",
    "    )"
   ]
  },
  {
   "cell_type": "code",
   "execution_count": null,
   "metadata": {},
   "outputs": [],
   "source": [
    "\n",
    "\n",
    "my_fig.update_layout(\n",
    "    title_text = 'GDELT Actions in the US',\n",
    "    showlegend = False,\n",
    "    geo = go.layout.Geo(\n",
    "        #scope = 'north america',\n",
    "        projection_type = 'azimuthal equal area',\n",
    "        showland = True,\n",
    "        landcolor = 'rgb(243, 243, 243)',\n",
    "        countrycolor = 'rgb(204, 204, 204)',\n",
    "    ),\n",
    ")\n",
    "\n",
    "my_fig.show()"
   ]
  },
  {
   "cell_type": "code",
   "execution_count": null,
   "metadata": {
    "scrolled": true
   },
   "outputs": [],
   "source": [
    "my_fig.show()"
   ]
  },
  {
   "cell_type": "code",
   "execution_count": null,
   "metadata": {},
   "outputs": [],
   "source": []
  },
  {
   "cell_type": "markdown",
   "metadata": {},
   "source": [
    "__Idea: get a wider date range (you can subset by location: US) and shade dots by recency of event___"
   ]
  },
  {
   "cell_type": "code",
   "execution_count": null,
   "metadata": {},
   "outputs": [],
   "source": [
    "import os\n",
    "\n",
    "if not os.path.exists(\"images\"):\n",
    "    os.mkdir(\"images\")\n"
   ]
  },
  {
   "cell_type": "code",
   "execution_count": null,
   "metadata": {},
   "outputs": [],
   "source": [
    "my_fig.write_image(\"images/gdeltmap.png\")\n"
   ]
  },
  {
   "cell_type": "code",
   "execution_count": null,
   "metadata": {},
   "outputs": [],
   "source": [
    "!conda install -c plotly plotly-orca -f y"
   ]
  }
 ],
 "metadata": {
  "kernelspec": {
   "display_name": "Python 3",
   "language": "python",
   "name": "python3"
  },
  "language_info": {
   "codemirror_mode": {
    "name": "ipython",
    "version": 3
   },
   "file_extension": ".py",
   "mimetype": "text/x-python",
   "name": "python",
   "nbconvert_exporter": "python",
   "pygments_lexer": "ipython3",
   "version": "3.6.5"
  }
 },
 "nbformat": 4,
 "nbformat_minor": 2
}
