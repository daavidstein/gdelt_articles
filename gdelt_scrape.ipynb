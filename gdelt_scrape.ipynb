{
 "cells": [
  {
   "cell_type": "code",
   "execution_count": 2,
   "metadata": {},
   "outputs": [],
   "source": [
    "import pandas as pd"
   ]
  },
  {
   "cell_type": "code",
   "execution_count": 3,
   "metadata": {},
   "outputs": [],
   "source": [
    "\n",
    "gdelt = pd.read_csv(\"GDELT_events.csv\")"
   ]
  },
  {
   "cell_type": "code",
   "execution_count": 5,
   "metadata": {},
   "outputs": [
    {
     "data": {
      "text/html": [
       "<div>\n",
       "<style scoped>\n",
       "    .dataframe tbody tr th:only-of-type {\n",
       "        vertical-align: middle;\n",
       "    }\n",
       "\n",
       "    .dataframe tbody tr th {\n",
       "        vertical-align: top;\n",
       "    }\n",
       "\n",
       "    .dataframe thead th {\n",
       "        text-align: right;\n",
       "    }\n",
       "</style>\n",
       "<table border=\"1\" class=\"dataframe\">\n",
       "  <thead>\n",
       "    <tr style=\"text-align: right;\">\n",
       "      <th></th>\n",
       "      <th>id</th>\n",
       "      <th>originating_namespace</th>\n",
       "      <th>originating_id</th>\n",
       "      <th>group_id</th>\n",
       "      <th>actor1</th>\n",
       "      <th>actor2</th>\n",
       "      <th>action</th>\n",
       "      <th>occurred</th>\n",
       "      <th>source</th>\n",
       "      <th>created_at</th>\n",
       "      <th>modified_at</th>\n",
       "    </tr>\n",
       "  </thead>\n",
       "  <tbody>\n",
       "    <tr>\n",
       "      <th>4</th>\n",
       "      <td>gdelt-861910281</td>\n",
       "      <td>gdelt</td>\n",
       "      <td>861910281</td>\n",
       "      <td>NaN</td>\n",
       "      <td>{'code': 'CANJUD', 'name': 'CANADA', 'location...</td>\n",
       "      <td>{'code': 'MIL', 'name': 'MILITARY', 'location'...</td>\n",
       "      <td>{'code': '112', 'location': {'lat': 48.3833, '...</td>\n",
       "      <td>2019-07-26 17:30:00+00</td>\n",
       "      <td>https://www.sookenewsmirror.com/news/supreme-c...</td>\n",
       "      <td>2019-07-29 20:21:19.038424+00</td>\n",
       "      <td>2019-07-29 20:21:19.038424+00</td>\n",
       "    </tr>\n",
       "    <tr>\n",
       "      <th>5</th>\n",
       "      <td>gdelt-861910285</td>\n",
       "      <td>gdelt</td>\n",
       "      <td>861910285</td>\n",
       "      <td>NaN</td>\n",
       "      <td>{'code': 'CHR', 'name': 'CHRISTIAN', 'location...</td>\n",
       "      <td>{'code': 'GOV', 'name': 'PRESIDENT', 'location...</td>\n",
       "      <td>{'code': '0253', 'location': {'lat': 12.4904, ...</td>\n",
       "      <td>2019-07-26 17:30:00+00</td>\n",
       "      <td>https://dailypost.ng/2019/07/26/leah-sharibu-c...</td>\n",
       "      <td>2019-07-29 20:21:19.038424+00</td>\n",
       "      <td>2019-07-29 20:21:19.038424+00</td>\n",
       "    </tr>\n",
       "  </tbody>\n",
       "</table>\n",
       "</div>"
      ],
      "text/plain": [
       "                id originating_namespace  originating_id  group_id  \\\n",
       "4  gdelt-861910281                 gdelt       861910281       NaN   \n",
       "5  gdelt-861910285                 gdelt       861910285       NaN   \n",
       "\n",
       "                                              actor1  \\\n",
       "4  {'code': 'CANJUD', 'name': 'CANADA', 'location...   \n",
       "5  {'code': 'CHR', 'name': 'CHRISTIAN', 'location...   \n",
       "\n",
       "                                              actor2  \\\n",
       "4  {'code': 'MIL', 'name': 'MILITARY', 'location'...   \n",
       "5  {'code': 'GOV', 'name': 'PRESIDENT', 'location...   \n",
       "\n",
       "                                              action                occurred  \\\n",
       "4  {'code': '112', 'location': {'lat': 48.3833, '...  2019-07-26 17:30:00+00   \n",
       "5  {'code': '0253', 'location': {'lat': 12.4904, ...  2019-07-26 17:30:00+00   \n",
       "\n",
       "                                              source  \\\n",
       "4  https://www.sookenewsmirror.com/news/supreme-c...   \n",
       "5  https://dailypost.ng/2019/07/26/leah-sharibu-c...   \n",
       "\n",
       "                      created_at                    modified_at  \n",
       "4  2019-07-29 20:21:19.038424+00  2019-07-29 20:21:19.038424+00  \n",
       "5  2019-07-29 20:21:19.038424+00  2019-07-29 20:21:19.038424+00  "
      ]
     },
     "execution_count": 5,
     "metadata": {},
     "output_type": "execute_result"
    }
   ],
   "source": [
    "gdelt.iloc[4:6,]"
   ]
  },
  {
   "cell_type": "code",
   "execution_count": 6,
   "metadata": {},
   "outputs": [
    {
     "data": {
      "text/html": [
       "<div>\n",
       "<style scoped>\n",
       "    .dataframe tbody tr th:only-of-type {\n",
       "        vertical-align: middle;\n",
       "    }\n",
       "\n",
       "    .dataframe tbody tr th {\n",
       "        vertical-align: top;\n",
       "    }\n",
       "\n",
       "    .dataframe thead th {\n",
       "        text-align: right;\n",
       "    }\n",
       "</style>\n",
       "<table border=\"1\" class=\"dataframe\">\n",
       "  <thead>\n",
       "    <tr style=\"text-align: right;\">\n",
       "      <th></th>\n",
       "      <th>id</th>\n",
       "      <th>originating_namespace</th>\n",
       "      <th>originating_id</th>\n",
       "      <th>group_id</th>\n",
       "      <th>actor1</th>\n",
       "      <th>actor2</th>\n",
       "      <th>action</th>\n",
       "      <th>occurred</th>\n",
       "      <th>source</th>\n",
       "      <th>created_at</th>\n",
       "      <th>modified_at</th>\n",
       "    </tr>\n",
       "  </thead>\n",
       "  <tbody>\n",
       "    <tr>\n",
       "      <th>10</th>\n",
       "      <td>gdelt-861910520</td>\n",
       "      <td>gdelt</td>\n",
       "      <td>861910520</td>\n",
       "      <td>NaN</td>\n",
       "      <td>{'code': 'GOV', 'name': 'PRIME MINISTER', 'loc...</td>\n",
       "      <td>{'code': 'GBR', 'name': 'UNITED KINGDOM', 'loc...</td>\n",
       "      <td>{'code': '030', 'location': {'lat': 53.3331, '...</td>\n",
       "      <td>2019-07-26 17:30:00+00</td>\n",
       "      <td>https://www.nytimes.com/reuters/2019/07/26/wor...</td>\n",
       "      <td>2019-07-29 20:21:19.669093+00</td>\n",
       "      <td>2019-07-29 20:21:19.669093+00</td>\n",
       "    </tr>\n",
       "    <tr>\n",
       "      <th>11</th>\n",
       "      <td>gdelt-861910542</td>\n",
       "      <td>gdelt</td>\n",
       "      <td>861910542</td>\n",
       "      <td>NaN</td>\n",
       "      <td>{'code': 'GOV', 'name': 'PRIME MINISTER', 'loc...</td>\n",
       "      <td>{'code': 'TUR', 'name': 'TURKEY', 'location': ...</td>\n",
       "      <td>{'code': '013', 'location': {'lat': 33.7, 'lon...</td>\n",
       "      <td>2019-07-26 17:30:00+00</td>\n",
       "      <td>http://dunyanews.tv/en/Pakistan/502254-PM-Imra...</td>\n",
       "      <td>2019-07-29 20:21:19.669093+00</td>\n",
       "      <td>2019-07-29 20:21:19.669093+00</td>\n",
       "    </tr>\n",
       "    <tr>\n",
       "      <th>12</th>\n",
       "      <td>gdelt-861910545</td>\n",
       "      <td>gdelt</td>\n",
       "      <td>861910545</td>\n",
       "      <td>NaN</td>\n",
       "      <td>{'code': 'GOV', 'name': 'PRIME MINISTER', 'loc...</td>\n",
       "      <td>{'code': 'TURGOV', 'name': 'RECEP TAYYIP ERDOG...</td>\n",
       "      <td>{'code': '013', 'location': {'lat': 33.7, 'lon...</td>\n",
       "      <td>2019-07-26 17:30:00+00</td>\n",
       "      <td>http://dunyanews.tv/en/Pakistan/502254-PM-Imra...</td>\n",
       "      <td>2019-07-29 20:21:19.669093+00</td>\n",
       "      <td>2019-07-29 20:21:19.669093+00</td>\n",
       "    </tr>\n",
       "    <tr>\n",
       "      <th>13</th>\n",
       "      <td>gdelt-861910566</td>\n",
       "      <td>gdelt</td>\n",
       "      <td>861910566</td>\n",
       "      <td>NaN</td>\n",
       "      <td>{'code': 'GOVHLH', 'name': 'HEALTH OFFICIAL', ...</td>\n",
       "      <td>{'code': 'EDU', 'name': 'SCHOOL', 'location': ...</td>\n",
       "      <td>{'code': '020', 'location': {'lat': 31.5502, '...</td>\n",
       "      <td>2019-07-26 17:30:00+00</td>\n",
       "      <td>https://us105fm.com/local-outbreak-of-whooping...</td>\n",
       "      <td>2019-07-29 20:21:19.669093+00</td>\n",
       "      <td>2019-07-29 20:21:19.669093+00</td>\n",
       "    </tr>\n",
       "    <tr>\n",
       "      <th>14</th>\n",
       "      <td>gdelt-861910592</td>\n",
       "      <td>gdelt</td>\n",
       "      <td>861910592</td>\n",
       "      <td>NaN</td>\n",
       "      <td>{'code': 'IRL', 'name': 'IRELAND', 'location':...</td>\n",
       "      <td>{'code': 'EDU', 'name': 'SCHOOL', 'location': ...</td>\n",
       "      <td>{'code': '043', 'location': {'lat': 54.65, 'lo...</td>\n",
       "      <td>2019-07-26 17:30:00+00</td>\n",
       "      <td>https://www.independent.ie/breaking-news/irish...</td>\n",
       "      <td>2019-07-29 20:21:19.7153+00</td>\n",
       "      <td>2019-07-29 20:21:19.7153+00</td>\n",
       "    </tr>\n",
       "  </tbody>\n",
       "</table>\n",
       "</div>"
      ],
      "text/plain": [
       "                 id originating_namespace  originating_id  group_id  \\\n",
       "10  gdelt-861910520                 gdelt       861910520       NaN   \n",
       "11  gdelt-861910542                 gdelt       861910542       NaN   \n",
       "12  gdelt-861910545                 gdelt       861910545       NaN   \n",
       "13  gdelt-861910566                 gdelt       861910566       NaN   \n",
       "14  gdelt-861910592                 gdelt       861910592       NaN   \n",
       "\n",
       "                                               actor1  \\\n",
       "10  {'code': 'GOV', 'name': 'PRIME MINISTER', 'loc...   \n",
       "11  {'code': 'GOV', 'name': 'PRIME MINISTER', 'loc...   \n",
       "12  {'code': 'GOV', 'name': 'PRIME MINISTER', 'loc...   \n",
       "13  {'code': 'GOVHLH', 'name': 'HEALTH OFFICIAL', ...   \n",
       "14  {'code': 'IRL', 'name': 'IRELAND', 'location':...   \n",
       "\n",
       "                                               actor2  \\\n",
       "10  {'code': 'GBR', 'name': 'UNITED KINGDOM', 'loc...   \n",
       "11  {'code': 'TUR', 'name': 'TURKEY', 'location': ...   \n",
       "12  {'code': 'TURGOV', 'name': 'RECEP TAYYIP ERDOG...   \n",
       "13  {'code': 'EDU', 'name': 'SCHOOL', 'location': ...   \n",
       "14  {'code': 'EDU', 'name': 'SCHOOL', 'location': ...   \n",
       "\n",
       "                                               action                occurred  \\\n",
       "10  {'code': '030', 'location': {'lat': 53.3331, '...  2019-07-26 17:30:00+00   \n",
       "11  {'code': '013', 'location': {'lat': 33.7, 'lon...  2019-07-26 17:30:00+00   \n",
       "12  {'code': '013', 'location': {'lat': 33.7, 'lon...  2019-07-26 17:30:00+00   \n",
       "13  {'code': '020', 'location': {'lat': 31.5502, '...  2019-07-26 17:30:00+00   \n",
       "14  {'code': '043', 'location': {'lat': 54.65, 'lo...  2019-07-26 17:30:00+00   \n",
       "\n",
       "                                               source  \\\n",
       "10  https://www.nytimes.com/reuters/2019/07/26/wor...   \n",
       "11  http://dunyanews.tv/en/Pakistan/502254-PM-Imra...   \n",
       "12  http://dunyanews.tv/en/Pakistan/502254-PM-Imra...   \n",
       "13  https://us105fm.com/local-outbreak-of-whooping...   \n",
       "14  https://www.independent.ie/breaking-news/irish...   \n",
       "\n",
       "                       created_at                    modified_at  \n",
       "10  2019-07-29 20:21:19.669093+00  2019-07-29 20:21:19.669093+00  \n",
       "11  2019-07-29 20:21:19.669093+00  2019-07-29 20:21:19.669093+00  \n",
       "12  2019-07-29 20:21:19.669093+00  2019-07-29 20:21:19.669093+00  \n",
       "13  2019-07-29 20:21:19.669093+00  2019-07-29 20:21:19.669093+00  \n",
       "14    2019-07-29 20:21:19.7153+00    2019-07-29 20:21:19.7153+00  "
      ]
     },
     "execution_count": 6,
     "metadata": {},
     "output_type": "execute_result"
    }
   ],
   "source": [
    "lower = 10\n",
    "upper = 15\n",
    "gdelt.iloc[lower:upper,]"
   ]
  },
  {
   "cell_type": "markdown",
   "metadata": {},
   "source": [
    "just write a function that gets the content for one row and appends it, then maybe you can apply that function"
   ]
  },
  {
   "cell_type": "code",
   "execution_count": null,
   "metadata": {},
   "outputs": [],
   "source": []
  },
  {
   "cell_type": "code",
   "execution_count": 10,
   "metadata": {},
   "outputs": [],
   "source": [
    "from lxml import html\n",
    "import requests\n",
    "def get_content(df,row_index):\n",
    "    url = df.iloc[row_index].source\n",
    "    page = requests.get(url)\n",
    "    tree = html.fromstring(page.content)\n",
    "    paras = tree.xpath('//p/text()')\n",
    "    return paras"
   ]
  },
  {
   "cell_type": "code",
   "execution_count": 17,
   "metadata": {},
   "outputs": [
    {
     "data": {
      "text/plain": [
       "['ISLAMABAD (Dunya News) – Turkish President Recep Tayyip Erdogan on Friday held a phone call with Prime Minister Imran Khan on Friday.',\n",
       " 'During the telephonic conversation, matters pertaining to bilateral relations and regional issues came under discussion.',\n",
       " 'PM Imran Khan apprised the Turkish President of current situation in Indian-occupied Kashmir and also discussed Afghan situation.',\n",
       " 'The two leaders expressed satisfaction on Pak-Turk relations and assured each other of cooperation in various sectors.',\n",
       " 'They agreed to hold a meeting of the Pak-Turk Strategic Cooperation Council this year in Islamabad.',\n",
       " 'On the occasion, the prime minister said that he will look forward for Recep Tayyip Erdogan to visit Pakistan for the Pak-Turk Strategic Cooperation Council meeting.',\n",
       " ' ',\n",
       " ' ',\n",
       " ' ']"
      ]
     },
     "execution_count": 17,
     "metadata": {},
     "output_type": "execute_result"
    }
   ],
   "source": [
    "get_content(gdelt,12)"
   ]
  },
  {
   "cell_type": "markdown",
   "metadata": {},
   "source": [
    "__What is the best way to handle titles? Do they go in the same column as content or in their own column? If we put them in the same column, do we have a dict = {\"title\"=\"This is my title\",\"content\" =\"this is my content\"] ?__"
   ]
  },
  {
   "cell_type": "markdown",
   "metadata": {},
   "source": [
    "__on a somewhat related note, do we want to concatenate the different paragraphs into one body of text, or is it useful to have them as separate entries in a list?__"
   ]
  },
  {
   "cell_type": "markdown",
   "metadata": {},
   "source": [
    "now modify get_content so that you append the content to the corresponding row"
   ]
  },
  {
   "cell_type": "code",
   "execution_count": 18,
   "metadata": {},
   "outputs": [
    {
     "data": {
      "text/plain": [
       "Index(['id', 'originating_namespace', 'originating_id', 'group_id', 'actor1',\n",
       "       'actor2', 'action', 'occurred', 'source', 'created_at', 'modified_at'],\n",
       "      dtype='object')"
      ]
     },
     "execution_count": 18,
     "metadata": {},
     "output_type": "execute_result"
    }
   ],
   "source": [
    "gdelt.columns"
   ]
  },
  {
   "cell_type": "code",
   "execution_count": 44,
   "metadata": {},
   "outputs": [],
   "source": [
    "def get_content(df,row_index):\n",
    "    if \"content\" not in df.columns:\n",
    "        df.insert(len(df.columns),\"content\",None)\n",
    "\n",
    "    url = df.iloc[row_index].source\n",
    "    page = requests.get(url)\n",
    "    tree = html.fromstring(page.content)\n",
    "    paras = tree.xpath('//p/text()')\n",
    "    #df.loc[row_index, \"content\"] =paras\n",
    "    df.at[row_index, 'content'] = paras\n",
    "    "
   ]
  },
  {
   "cell_type": "code",
   "execution_count": 45,
   "metadata": {},
   "outputs": [],
   "source": [
    "get_content(gdelt,12)"
   ]
  },
  {
   "cell_type": "code",
   "execution_count": 46,
   "metadata": {},
   "outputs": [
    {
     "data": {
      "text/plain": [
       "['ISLAMABAD (Dunya News) – Turkish President Recep Tayyip Erdogan on Friday held a phone call with Prime Minister Imran Khan on Friday.',\n",
       " 'During the telephonic conversation, matters pertaining to bilateral relations and regional issues came under discussion.',\n",
       " 'PM Imran Khan apprised the Turkish President of current situation in Indian-occupied Kashmir and also discussed Afghan situation.',\n",
       " 'The two leaders expressed satisfaction on Pak-Turk relations and assured each other of cooperation in various sectors.',\n",
       " 'They agreed to hold a meeting of the Pak-Turk Strategic Cooperation Council this year in Islamabad.',\n",
       " 'On the occasion, the prime minister said that he will look forward for Recep Tayyip Erdogan to visit Pakistan for the Pak-Turk Strategic Cooperation Council meeting.',\n",
       " ' ',\n",
       " ' ',\n",
       " ' ']"
      ]
     },
     "execution_count": 46,
     "metadata": {},
     "output_type": "execute_result"
    }
   ],
   "source": [
    "gdelt.loc[12, \"content\"]\n"
   ]
  },
  {
   "cell_type": "markdown",
   "metadata": {},
   "source": [
    "modify get_content to take a row instead of a row_index"
   ]
  },
  {
   "cell_type": "code",
   "execution_count": 84,
   "metadata": {},
   "outputs": [],
   "source": [
    "def get_content(row):\n",
    "    if \"content\" not in row.index:\n",
    "       df.insert(len(df.columns),\"content\",None)\n",
    "\n",
    "    url = row[\"source\"]\n",
    "    page = requests.get(url)\n",
    "    tree = html.fromstring(page.content)\n",
    "    paras = tree.xpath('//p/text()')\n",
    "    print(paras)\n",
    "    #df.loc[row_index, \"content\"] =paras\n",
    "    #row.at['content'] = paras\n",
    "    row.loc['content'] = paras\n",
    "    return row"
   ]
  },
  {
   "cell_type": "code",
   "execution_count": 85,
   "metadata": {},
   "outputs": [
    {
     "name": "stdout",
     "output_type": "stream",
     "text": [
      "['The Kingswood College band is undertaking a tour to the Western Cape during the August holidays and will be traveling to George, Mossel Bay, Gordon’s Bay, Somerset West and Cape Town.', 'The Kingswood Band comprising of 32 players, 18 girls and 14 boys make up this tour group. Three of the touring members are still in the Junior School. The youngest member, Eva Vassiliou is only 10 years old and the two Junior School boys, Kwanda Ningiza and Realeboha Kao, are both in Grade 7.', 'Our new Director of Music, Nici Coleman will also be going on the tour. She is a trumpet player and teaches all the brass pupils at the Kingswood Music School. Prior to joining Kingswood College, Coleman was the director of Music at Alexander Road High School in Port Elizabeth for 14 years before moving to Makhanda and taking up the position at Kingswood.', 'The band performs in a number of concerts and other events throughout the year, and goes on tour most years. The bands performances are largely given in support of various community projects in the Makhanda area. This gives the musicians a chance to engage with communities by virtue of music.', 'Since 2009, the Concert Band has played numerous concerts in aid of Hospice, with funds raised mainly going to Grahamstown Hospice as well as Sunshine Coast Hospice (Port Alfred) and occasionally other Hospice centres when on Tour. To date, ', 'these events have raised nearly R160 000.', 'Comments are closed.', '\\r\\n\\t', '\\r\\n', '\\r\\n  ', '\\r\\n\\t', '\\r\\n', 'The Rhodes University Community Engagement Division has launched Engagement in Action, a new podcast which aims to bring to life some of the many ways in which the University interacts with communities around it. Check it out below.']\n"
     ]
    },
    {
     "name": "stderr",
     "output_type": "stream",
     "text": [
      "/home/broken-haiku/anaconda3/lib/python3.6/site-packages/pandas/core/indexing.py:189: SettingWithCopyWarning: \n",
      "A value is trying to be set on a copy of a slice from a DataFrame\n",
      "\n",
      "See the caveats in the documentation: http://pandas.pydata.org/pandas-docs/stable/indexing.html#indexing-view-versus-copy\n",
      "  self._setitem_with_indexer(indexer, value)\n",
      "/home/broken-haiku/anaconda3/lib/python3.6/site-packages/ipykernel_launcher.py:12: SettingWithCopyWarning: \n",
      "A value is trying to be set on a copy of a slice from a DataFrame\n",
      "\n",
      "See the caveats in the documentation: http://pandas.pydata.org/pandas-docs/stable/indexing.html#indexing-view-versus-copy\n",
      "  if sys.path[0] == '':\n"
     ]
    },
    {
     "data": {
      "text/plain": [
       "id                                                         gdelt-861910190\n",
       "originating_namespace                                                gdelt\n",
       "originating_id                                                   861910190\n",
       "group_id                                                               NaN\n",
       "actor1                   {'code': 'AFR', 'name': 'AFRICA', 'location': ...\n",
       "actor2                                                                 NaN\n",
       "action                   {'code': '036', 'location': {'lat': -33.3042, ...\n",
       "occurred                                            2019-07-26 17:30:00+00\n",
       "source                   https://www.grocotts.co.za/2019/07/26/kc-conce...\n",
       "created_at                                   2019-07-29 20:21:18.949668+00\n",
       "modified_at                                  2019-07-29 20:21:18.949668+00\n",
       "content                  [The Kingswood College band is undertaking a t...\n",
       "Name: 1, dtype: object"
      ]
     },
     "execution_count": 85,
     "metadata": {},
     "output_type": "execute_result"
    }
   ],
   "source": [
    "get_content(gdelt.iloc[1])"
   ]
  },
  {
   "cell_type": "code",
   "execution_count": 91,
   "metadata": {},
   "outputs": [
    {
     "ename": "KeyError",
     "evalue": "('source', 'occurred at index id')",
     "output_type": "error",
     "traceback": [
      "\u001b[0;31m---------------------------------------------------------------------------\u001b[0m",
      "\u001b[0;31mTypeError\u001b[0m                                 Traceback (most recent call last)",
      "\u001b[0;32mpandas/_libs/index.pyx\u001b[0m in \u001b[0;36mpandas._libs.index.IndexEngine.get_loc\u001b[0;34m()\u001b[0m\n",
      "\u001b[0;32mpandas/_libs/hashtable_class_helper.pxi\u001b[0m in \u001b[0;36mpandas._libs.hashtable.Int64HashTable.get_item\u001b[0;34m()\u001b[0m\n",
      "\u001b[0;31mTypeError\u001b[0m: an integer is required",
      "\nDuring handling of the above exception, another exception occurred:\n",
      "\u001b[0;31mKeyError\u001b[0m                                  Traceback (most recent call last)",
      "\u001b[0;32m<ipython-input-91-ac5b4e637654>\u001b[0m in \u001b[0;36m<module>\u001b[0;34m()\u001b[0m\n\u001b[0;32m----> 1\u001b[0;31m \u001b[0mgdelt\u001b[0m\u001b[0;34m.\u001b[0m\u001b[0mhead\u001b[0m\u001b[0;34m(\u001b[0m\u001b[0;34m)\u001b[0m\u001b[0;34m.\u001b[0m\u001b[0mapply\u001b[0m\u001b[0;34m(\u001b[0m\u001b[0mget_content\u001b[0m\u001b[0;34m)\u001b[0m\u001b[0;34m\u001b[0m\u001b[0m\n\u001b[0m",
      "\u001b[0;32m~/anaconda3/lib/python3.6/site-packages/pandas/core/frame.py\u001b[0m in \u001b[0;36mapply\u001b[0;34m(self, func, axis, broadcast, raw, reduce, result_type, args, **kwds)\u001b[0m\n\u001b[1;32m   6002\u001b[0m                          \u001b[0margs\u001b[0m\u001b[0;34m=\u001b[0m\u001b[0margs\u001b[0m\u001b[0;34m,\u001b[0m\u001b[0;34m\u001b[0m\u001b[0m\n\u001b[1;32m   6003\u001b[0m                          kwds=kwds)\n\u001b[0;32m-> 6004\u001b[0;31m         \u001b[0;32mreturn\u001b[0m \u001b[0mop\u001b[0m\u001b[0;34m.\u001b[0m\u001b[0mget_result\u001b[0m\u001b[0;34m(\u001b[0m\u001b[0;34m)\u001b[0m\u001b[0;34m\u001b[0m\u001b[0m\n\u001b[0m\u001b[1;32m   6005\u001b[0m \u001b[0;34m\u001b[0m\u001b[0m\n\u001b[1;32m   6006\u001b[0m     \u001b[0;32mdef\u001b[0m \u001b[0mapplymap\u001b[0m\u001b[0;34m(\u001b[0m\u001b[0mself\u001b[0m\u001b[0;34m,\u001b[0m \u001b[0mfunc\u001b[0m\u001b[0;34m)\u001b[0m\u001b[0;34m:\u001b[0m\u001b[0;34m\u001b[0m\u001b[0m\n",
      "\u001b[0;32m~/anaconda3/lib/python3.6/site-packages/pandas/core/apply.py\u001b[0m in \u001b[0;36mget_result\u001b[0;34m(self)\u001b[0m\n\u001b[1;32m    316\u001b[0m                                       *self.args, **self.kwds)\n\u001b[1;32m    317\u001b[0m \u001b[0;34m\u001b[0m\u001b[0m\n\u001b[0;32m--> 318\u001b[0;31m         \u001b[0;32mreturn\u001b[0m \u001b[0msuper\u001b[0m\u001b[0;34m(\u001b[0m\u001b[0mFrameRowApply\u001b[0m\u001b[0;34m,\u001b[0m \u001b[0mself\u001b[0m\u001b[0;34m)\u001b[0m\u001b[0;34m.\u001b[0m\u001b[0mget_result\u001b[0m\u001b[0;34m(\u001b[0m\u001b[0;34m)\u001b[0m\u001b[0;34m\u001b[0m\u001b[0m\n\u001b[0m\u001b[1;32m    319\u001b[0m \u001b[0;34m\u001b[0m\u001b[0m\n\u001b[1;32m    320\u001b[0m     \u001b[0;32mdef\u001b[0m \u001b[0mapply_broadcast\u001b[0m\u001b[0;34m(\u001b[0m\u001b[0mself\u001b[0m\u001b[0;34m)\u001b[0m\u001b[0;34m:\u001b[0m\u001b[0;34m\u001b[0m\u001b[0m\n",
      "\u001b[0;32m~/anaconda3/lib/python3.6/site-packages/pandas/core/apply.py\u001b[0m in \u001b[0;36mget_result\u001b[0;34m(self)\u001b[0m\n\u001b[1;32m    140\u001b[0m             \u001b[0;32mreturn\u001b[0m \u001b[0mself\u001b[0m\u001b[0;34m.\u001b[0m\u001b[0mapply_raw\u001b[0m\u001b[0;34m(\u001b[0m\u001b[0;34m)\u001b[0m\u001b[0;34m\u001b[0m\u001b[0m\n\u001b[1;32m    141\u001b[0m \u001b[0;34m\u001b[0m\u001b[0m\n\u001b[0;32m--> 142\u001b[0;31m         \u001b[0;32mreturn\u001b[0m \u001b[0mself\u001b[0m\u001b[0;34m.\u001b[0m\u001b[0mapply_standard\u001b[0m\u001b[0;34m(\u001b[0m\u001b[0;34m)\u001b[0m\u001b[0;34m\u001b[0m\u001b[0m\n\u001b[0m\u001b[1;32m    143\u001b[0m \u001b[0;34m\u001b[0m\u001b[0m\n\u001b[1;32m    144\u001b[0m     \u001b[0;32mdef\u001b[0m \u001b[0mapply_empty_result\u001b[0m\u001b[0;34m(\u001b[0m\u001b[0mself\u001b[0m\u001b[0;34m)\u001b[0m\u001b[0;34m:\u001b[0m\u001b[0;34m\u001b[0m\u001b[0m\n",
      "\u001b[0;32m~/anaconda3/lib/python3.6/site-packages/pandas/core/apply.py\u001b[0m in \u001b[0;36mapply_standard\u001b[0;34m(self)\u001b[0m\n\u001b[1;32m    246\u001b[0m \u001b[0;34m\u001b[0m\u001b[0m\n\u001b[1;32m    247\u001b[0m         \u001b[0;31m# compute the result using the series generator\u001b[0m\u001b[0;34m\u001b[0m\u001b[0;34m\u001b[0m\u001b[0m\n\u001b[0;32m--> 248\u001b[0;31m         \u001b[0mself\u001b[0m\u001b[0;34m.\u001b[0m\u001b[0mapply_series_generator\u001b[0m\u001b[0;34m(\u001b[0m\u001b[0;34m)\u001b[0m\u001b[0;34m\u001b[0m\u001b[0m\n\u001b[0m\u001b[1;32m    249\u001b[0m \u001b[0;34m\u001b[0m\u001b[0m\n\u001b[1;32m    250\u001b[0m         \u001b[0;31m# wrap results\u001b[0m\u001b[0;34m\u001b[0m\u001b[0;34m\u001b[0m\u001b[0m\n",
      "\u001b[0;32m~/anaconda3/lib/python3.6/site-packages/pandas/core/apply.py\u001b[0m in \u001b[0;36mapply_series_generator\u001b[0;34m(self)\u001b[0m\n\u001b[1;32m    275\u001b[0m             \u001b[0;32mtry\u001b[0m\u001b[0;34m:\u001b[0m\u001b[0;34m\u001b[0m\u001b[0m\n\u001b[1;32m    276\u001b[0m                 \u001b[0;32mfor\u001b[0m \u001b[0mi\u001b[0m\u001b[0;34m,\u001b[0m \u001b[0mv\u001b[0m \u001b[0;32min\u001b[0m \u001b[0menumerate\u001b[0m\u001b[0;34m(\u001b[0m\u001b[0mseries_gen\u001b[0m\u001b[0;34m)\u001b[0m\u001b[0;34m:\u001b[0m\u001b[0;34m\u001b[0m\u001b[0m\n\u001b[0;32m--> 277\u001b[0;31m                     \u001b[0mresults\u001b[0m\u001b[0;34m[\u001b[0m\u001b[0mi\u001b[0m\u001b[0;34m]\u001b[0m \u001b[0;34m=\u001b[0m \u001b[0mself\u001b[0m\u001b[0;34m.\u001b[0m\u001b[0mf\u001b[0m\u001b[0;34m(\u001b[0m\u001b[0mv\u001b[0m\u001b[0;34m)\u001b[0m\u001b[0;34m\u001b[0m\u001b[0m\n\u001b[0m\u001b[1;32m    278\u001b[0m                     \u001b[0mkeys\u001b[0m\u001b[0;34m.\u001b[0m\u001b[0mappend\u001b[0m\u001b[0;34m(\u001b[0m\u001b[0mv\u001b[0m\u001b[0;34m.\u001b[0m\u001b[0mname\u001b[0m\u001b[0;34m)\u001b[0m\u001b[0;34m\u001b[0m\u001b[0m\n\u001b[1;32m    279\u001b[0m             \u001b[0;32mexcept\u001b[0m \u001b[0mException\u001b[0m \u001b[0;32mas\u001b[0m \u001b[0me\u001b[0m\u001b[0;34m:\u001b[0m\u001b[0;34m\u001b[0m\u001b[0m\n",
      "\u001b[0;32m<ipython-input-84-53961981b0e4>\u001b[0m in \u001b[0;36mget_content\u001b[0;34m(row)\u001b[0m\n\u001b[1;32m      3\u001b[0m     \u001b[0;31m#   df.insert(len(df.columns),\"content\",None)\u001b[0m\u001b[0;34m\u001b[0m\u001b[0;34m\u001b[0m\u001b[0m\n\u001b[1;32m      4\u001b[0m \u001b[0;34m\u001b[0m\u001b[0m\n\u001b[0;32m----> 5\u001b[0;31m     \u001b[0murl\u001b[0m \u001b[0;34m=\u001b[0m \u001b[0mrow\u001b[0m\u001b[0;34m[\u001b[0m\u001b[0;34m\"source\"\u001b[0m\u001b[0;34m]\u001b[0m\u001b[0;34m\u001b[0m\u001b[0m\n\u001b[0m\u001b[1;32m      6\u001b[0m     \u001b[0mpage\u001b[0m \u001b[0;34m=\u001b[0m \u001b[0mrequests\u001b[0m\u001b[0;34m.\u001b[0m\u001b[0mget\u001b[0m\u001b[0;34m(\u001b[0m\u001b[0murl\u001b[0m\u001b[0;34m)\u001b[0m\u001b[0;34m\u001b[0m\u001b[0m\n\u001b[1;32m      7\u001b[0m     \u001b[0mtree\u001b[0m \u001b[0;34m=\u001b[0m \u001b[0mhtml\u001b[0m\u001b[0;34m.\u001b[0m\u001b[0mfromstring\u001b[0m\u001b[0;34m(\u001b[0m\u001b[0mpage\u001b[0m\u001b[0;34m.\u001b[0m\u001b[0mcontent\u001b[0m\u001b[0;34m)\u001b[0m\u001b[0;34m\u001b[0m\u001b[0m\n",
      "\u001b[0;32m~/anaconda3/lib/python3.6/site-packages/pandas/core/series.py\u001b[0m in \u001b[0;36m__getitem__\u001b[0;34m(self, key)\u001b[0m\n\u001b[1;32m    764\u001b[0m         \u001b[0mkey\u001b[0m \u001b[0;34m=\u001b[0m \u001b[0mcom\u001b[0m\u001b[0;34m.\u001b[0m\u001b[0m_apply_if_callable\u001b[0m\u001b[0;34m(\u001b[0m\u001b[0mkey\u001b[0m\u001b[0;34m,\u001b[0m \u001b[0mself\u001b[0m\u001b[0;34m)\u001b[0m\u001b[0;34m\u001b[0m\u001b[0m\n\u001b[1;32m    765\u001b[0m         \u001b[0;32mtry\u001b[0m\u001b[0;34m:\u001b[0m\u001b[0;34m\u001b[0m\u001b[0m\n\u001b[0;32m--> 766\u001b[0;31m             \u001b[0mresult\u001b[0m \u001b[0;34m=\u001b[0m \u001b[0mself\u001b[0m\u001b[0;34m.\u001b[0m\u001b[0mindex\u001b[0m\u001b[0;34m.\u001b[0m\u001b[0mget_value\u001b[0m\u001b[0;34m(\u001b[0m\u001b[0mself\u001b[0m\u001b[0;34m,\u001b[0m \u001b[0mkey\u001b[0m\u001b[0;34m)\u001b[0m\u001b[0;34m\u001b[0m\u001b[0m\n\u001b[0m\u001b[1;32m    767\u001b[0m \u001b[0;34m\u001b[0m\u001b[0m\n\u001b[1;32m    768\u001b[0m             \u001b[0;32mif\u001b[0m \u001b[0;32mnot\u001b[0m \u001b[0mis_scalar\u001b[0m\u001b[0;34m(\u001b[0m\u001b[0mresult\u001b[0m\u001b[0;34m)\u001b[0m\u001b[0;34m:\u001b[0m\u001b[0;34m\u001b[0m\u001b[0m\n",
      "\u001b[0;32m~/anaconda3/lib/python3.6/site-packages/pandas/core/indexes/base.py\u001b[0m in \u001b[0;36mget_value\u001b[0;34m(self, series, key)\u001b[0m\n\u001b[1;32m   3101\u001b[0m         \u001b[0;32mtry\u001b[0m\u001b[0;34m:\u001b[0m\u001b[0;34m\u001b[0m\u001b[0m\n\u001b[1;32m   3102\u001b[0m             return self._engine.get_value(s, k,\n\u001b[0;32m-> 3103\u001b[0;31m                                           tz=getattr(series.dtype, 'tz', None))\n\u001b[0m\u001b[1;32m   3104\u001b[0m         \u001b[0;32mexcept\u001b[0m \u001b[0mKeyError\u001b[0m \u001b[0;32mas\u001b[0m \u001b[0me1\u001b[0m\u001b[0;34m:\u001b[0m\u001b[0;34m\u001b[0m\u001b[0m\n\u001b[1;32m   3105\u001b[0m             \u001b[0;32mif\u001b[0m \u001b[0mlen\u001b[0m\u001b[0;34m(\u001b[0m\u001b[0mself\u001b[0m\u001b[0;34m)\u001b[0m \u001b[0;34m>\u001b[0m \u001b[0;36m0\u001b[0m \u001b[0;32mand\u001b[0m \u001b[0mself\u001b[0m\u001b[0;34m.\u001b[0m\u001b[0minferred_type\u001b[0m \u001b[0;32min\u001b[0m \u001b[0;34m[\u001b[0m\u001b[0;34m'integer'\u001b[0m\u001b[0;34m,\u001b[0m \u001b[0;34m'boolean'\u001b[0m\u001b[0;34m]\u001b[0m\u001b[0;34m:\u001b[0m\u001b[0;34m\u001b[0m\u001b[0m\n",
      "\u001b[0;32mpandas/_libs/index.pyx\u001b[0m in \u001b[0;36mpandas._libs.index.IndexEngine.get_value\u001b[0;34m()\u001b[0m\n",
      "\u001b[0;32mpandas/_libs/index.pyx\u001b[0m in \u001b[0;36mpandas._libs.index.IndexEngine.get_value\u001b[0;34m()\u001b[0m\n",
      "\u001b[0;32mpandas/_libs/index.pyx\u001b[0m in \u001b[0;36mpandas._libs.index.IndexEngine.get_loc\u001b[0;34m()\u001b[0m\n",
      "\u001b[0;31mKeyError\u001b[0m: ('source', 'occurred at index id')"
     ]
    }
   ],
   "source": [
    "gdelt.head().apply(get_content)"
   ]
  }
 ],
 "metadata": {
  "kernelspec": {
   "display_name": "Python 3",
   "language": "python",
   "name": "python3"
  },
  "language_info": {
   "codemirror_mode": {
    "name": "ipython",
    "version": 3
   },
   "file_extension": ".py",
   "mimetype": "text/x-python",
   "name": "python",
   "nbconvert_exporter": "python",
   "pygments_lexer": "ipython3",
   "version": "3.6.5"
  }
 },
 "nbformat": 4,
 "nbformat_minor": 2
}
