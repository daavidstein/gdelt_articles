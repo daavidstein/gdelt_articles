{
 "cells": [
  {
   "cell_type": "code",
   "execution_count": 1,
   "metadata": {},
   "outputs": [],
   "source": [
    "import pandas as pd"
   ]
  },
  {
   "cell_type": "code",
   "execution_count": 2,
   "metadata": {},
   "outputs": [],
   "source": [
    "from get_content import scrap"
   ]
  },
  {
   "cell_type": "code",
   "execution_count": 3,
   "metadata": {},
   "outputs": [],
   "source": [
    "gdelt = pd.read_csv(\"GDELT_events.csv\")"
   ]
  },
  {
   "cell_type": "code",
   "execution_count": 10,
   "metadata": {},
   "outputs": [
    {
     "ename": "KeyError",
     "evalue": "'location'",
     "output_type": "error",
     "traceback": [
      "\u001b[0;31m---------------------------------------------------------------------------\u001b[0m",
      "\u001b[0;31mTypeError\u001b[0m                                 Traceback (most recent call last)",
      "\u001b[0;32mpandas/_libs/index.pyx\u001b[0m in \u001b[0;36mpandas._libs.index.IndexEngine.get_loc\u001b[0;34m()\u001b[0m\n",
      "\u001b[0;32mpandas/_libs/hashtable_class_helper.pxi\u001b[0m in \u001b[0;36mpandas._libs.hashtable.Int64HashTable.get_item\u001b[0;34m()\u001b[0m\n",
      "\u001b[0;31mTypeError\u001b[0m: an integer is required",
      "\nDuring handling of the above exception, another exception occurred:\n",
      "\u001b[0;31mKeyError\u001b[0m                                  Traceback (most recent call last)",
      "\u001b[0;32m<ipython-input-10-06830b55b70b>\u001b[0m in \u001b[0;36m<module>\u001b[0;34m\u001b[0m\n\u001b[0;32m----> 1\u001b[0;31m \u001b[0mgdelt\u001b[0m\u001b[0;34m.\u001b[0m\u001b[0maction\u001b[0m\u001b[0;34m[\u001b[0m\u001b[0;34m'location'\u001b[0m\u001b[0;34m]\u001b[0m\u001b[0;34m\u001b[0m\u001b[0m\n\u001b[0m",
      "\u001b[0;32m~/anaconda3/lib/python3.6/site-packages/pandas/core/series.py\u001b[0m in \u001b[0;36m__getitem__\u001b[0;34m(self, key)\u001b[0m\n\u001b[1;32m    764\u001b[0m         \u001b[0mkey\u001b[0m \u001b[0;34m=\u001b[0m \u001b[0mcom\u001b[0m\u001b[0;34m.\u001b[0m\u001b[0m_apply_if_callable\u001b[0m\u001b[0;34m(\u001b[0m\u001b[0mkey\u001b[0m\u001b[0;34m,\u001b[0m \u001b[0mself\u001b[0m\u001b[0;34m)\u001b[0m\u001b[0;34m\u001b[0m\u001b[0m\n\u001b[1;32m    765\u001b[0m         \u001b[0;32mtry\u001b[0m\u001b[0;34m:\u001b[0m\u001b[0;34m\u001b[0m\u001b[0m\n\u001b[0;32m--> 766\u001b[0;31m             \u001b[0mresult\u001b[0m \u001b[0;34m=\u001b[0m \u001b[0mself\u001b[0m\u001b[0;34m.\u001b[0m\u001b[0mindex\u001b[0m\u001b[0;34m.\u001b[0m\u001b[0mget_value\u001b[0m\u001b[0;34m(\u001b[0m\u001b[0mself\u001b[0m\u001b[0;34m,\u001b[0m \u001b[0mkey\u001b[0m\u001b[0;34m)\u001b[0m\u001b[0;34m\u001b[0m\u001b[0m\n\u001b[0m\u001b[1;32m    767\u001b[0m \u001b[0;34m\u001b[0m\u001b[0m\n\u001b[1;32m    768\u001b[0m             \u001b[0;32mif\u001b[0m \u001b[0;32mnot\u001b[0m \u001b[0mis_scalar\u001b[0m\u001b[0;34m(\u001b[0m\u001b[0mresult\u001b[0m\u001b[0;34m)\u001b[0m\u001b[0;34m:\u001b[0m\u001b[0;34m\u001b[0m\u001b[0m\n",
      "\u001b[0;32m~/anaconda3/lib/python3.6/site-packages/pandas/core/indexes/base.py\u001b[0m in \u001b[0;36mget_value\u001b[0;34m(self, series, key)\u001b[0m\n\u001b[1;32m   3101\u001b[0m         \u001b[0;32mtry\u001b[0m\u001b[0;34m:\u001b[0m\u001b[0;34m\u001b[0m\u001b[0m\n\u001b[1;32m   3102\u001b[0m             return self._engine.get_value(s, k,\n\u001b[0;32m-> 3103\u001b[0;31m                                           tz=getattr(series.dtype, 'tz', None))\n\u001b[0m\u001b[1;32m   3104\u001b[0m         \u001b[0;32mexcept\u001b[0m \u001b[0mKeyError\u001b[0m \u001b[0;32mas\u001b[0m \u001b[0me1\u001b[0m\u001b[0;34m:\u001b[0m\u001b[0;34m\u001b[0m\u001b[0m\n\u001b[1;32m   3105\u001b[0m             \u001b[0;32mif\u001b[0m \u001b[0mlen\u001b[0m\u001b[0;34m(\u001b[0m\u001b[0mself\u001b[0m\u001b[0;34m)\u001b[0m \u001b[0;34m>\u001b[0m \u001b[0;36m0\u001b[0m \u001b[0;32mand\u001b[0m \u001b[0mself\u001b[0m\u001b[0;34m.\u001b[0m\u001b[0minferred_type\u001b[0m \u001b[0;32min\u001b[0m \u001b[0;34m[\u001b[0m\u001b[0;34m'integer'\u001b[0m\u001b[0;34m,\u001b[0m \u001b[0;34m'boolean'\u001b[0m\u001b[0;34m]\u001b[0m\u001b[0;34m:\u001b[0m\u001b[0;34m\u001b[0m\u001b[0m\n",
      "\u001b[0;32mpandas/_libs/index.pyx\u001b[0m in \u001b[0;36mpandas._libs.index.IndexEngine.get_value\u001b[0;34m()\u001b[0m\n",
      "\u001b[0;32mpandas/_libs/index.pyx\u001b[0m in \u001b[0;36mpandas._libs.index.IndexEngine.get_value\u001b[0;34m()\u001b[0m\n",
      "\u001b[0;32mpandas/_libs/index.pyx\u001b[0m in \u001b[0;36mpandas._libs.index.IndexEngine.get_loc\u001b[0;34m()\u001b[0m\n",
      "\u001b[0;31mKeyError\u001b[0m: 'location'"
     ]
    }
   ],
   "source": [
    "gdelt.action['location']"
   ]
  },
  {
   "cell_type": "code",
   "execution_count": 5,
   "metadata": {},
   "outputs": [],
   "source": [
    "gdelt_subset_with_content = scrap(gdelt.head(20), 'csv')"
   ]
  },
  {
   "cell_type": "code",
   "execution_count": 5,
   "metadata": {},
   "outputs": [
    {
     "data": {
      "text/plain": [
       "Index(['id', 'originating_namespace', 'originating_id', 'group_id', 'actor1',\n",
       "       'actor2', 'action', 'occurred', 'source', 'created_at', 'modified_at'],\n",
       "      dtype='object')"
      ]
     },
     "execution_count": 5,
     "metadata": {},
     "output_type": "execute_result"
    }
   ],
   "source": [
    "gdelt.columns"
   ]
  },
  {
   "cell_type": "code",
   "execution_count": 6,
   "metadata": {},
   "outputs": [
    {
     "data": {
      "text/plain": [
       "Index(['id', 'originating_namespace', 'originating_id', 'group_id', 'actor1',\n",
       "       'actor2', 'action', 'occurred', 'source', 'created_at', 'modified_at',\n",
       "       'content'],\n",
       "      dtype='object')"
      ]
     },
     "execution_count": 6,
     "metadata": {},
     "output_type": "execute_result"
    }
   ],
   "source": [
    "gdelt_subset_with_content.columns"
   ]
  },
  {
   "cell_type": "code",
   "execution_count": 7,
   "metadata": {},
   "outputs": [
    {
     "data": {
      "text/plain": [
       "0     Angelina Jolie and Brad Pitt are legally singl...\n",
       "1     The Kingswood College band is undertaking a to...\n",
       "2     MINSK, 26 July (BelTA)  The Petrus Brovka Bela...\n",
       "3     By  Chris Spargo For Dailymail.com      |     ...\n",
       "4                                                    NA\n",
       "5                                                    NA\n",
       "6     Please   purchase a subscription to continue r...\n",
       "7     Facebook - Times of Central Asia BISHKEK (TCA)...\n",
       "8     Tuesday 17 September 2019 By  ,     A no-deal ...\n",
       "9     Northern Irelands new Secretary of State has p...\n",
       "10                                                   NA\n",
       "11    ISLAMABAD (Dunya News)  Turkish President Rece...\n",
       "12    ISLAMABAD (Dunya News)  Turkish President Rece...\n",
       "13    Wash those hands! Especially if you work or pl...\n",
       "14    Tuesday 17 September 2019 By  ,     A no-deal ...\n",
       "15    Tuesday 17 September 2019 By  ,     A no-deal ...\n",
       "16    MONTGOMERY, Ala. (WSFA) - An east Alabama truc...\n",
       "17    Settings Cancel Set Have an existing account? ...\n",
       "18    Have an existing account? Already have a subsc...\n",
       "19    Some sun this morning with increasing clouds t...\n",
       "Name: content, dtype: object"
      ]
     },
     "execution_count": 7,
     "metadata": {},
     "output_type": "execute_result"
    }
   ],
   "source": [
    "gdelt_subset_with_content[\"content\"]"
   ]
  },
  {
   "cell_type": "markdown",
   "metadata": {},
   "source": [
    "__note: some entries (such as the fourth one above) will be empty due to the source server blocking us__"
   ]
  },
  {
   "cell_type": "code",
   "execution_count": 21,
   "metadata": {},
   "outputs": [
    {
     "data": {
      "text/plain": [
       "\"By  Chris Spargo For Dailymail.com      |     2 View   comments A federal judge signed a strict protective order on Thursday, instructing Jeffrey Epstein and his counsel to not share any information about the case with non-vital third parties. Judge Richard Berman wrote in his opinion that any evidence or discovery obtained by the defense from prosecutors 'is not authorized to be disclosed to the public or disclosed beyond that which is necessary for the defense of this action.' This goes for certain documents in particular which 'would impede, if prematurely disclosed, the Governments ongoing investigation of uncharged individuals.' That suggests that a number of people closer to Epstein could be called ion to provide testimony or even evidence in the case. Air up there:Jeffery Epstein's pilots have been issued subpoenas by federal prosecutors in his sex trafficking case (pilot Larry Visoski at the reins of the Lolita Express above) Federal prosecutors have subpoenaed the pilots who worked for Epstein the  Wall Street Journal reported on Friday. The lawyer for one of the pilots confirmed that his client had received notice of a grand jury subpoena soon after Epstein was arrested at Teterboro Airport earlier this month. David Rodgers, Larry Visoski, Larry Morrison and Bill Hammond are among the men who have been named as Epstein's pilots in previous court filings. It is Rodgers who maintained the flight logs between 1997 and 2005 that were previously released more than a decade ago during the criminal investigation in Palm Beach and subsequent lawsuits. Lawyers for some of the victims in Florida have stated however that some of the logs are incomplete, and omit the names of underage girls. These pilots could also name fellow guests who rode on the planes, or the locations of Epstein's overseas accounts. It was revealed earlier this week that Epstein managed to move money out of the country earlier this year from accounts he had at Deutsche Bank - despite the company severing all ties with the pedophile. The New York Times  reports that even baking officials failed to realize the possible financial crimes being committed by Epstein until after the fact, believing that the company had closed out all his accounts late last year. Deutsche Bank now wants to make sure that none of the money being moved by Epstein was used to fund or in any way support the sex trafficking of underage females. Epstein was making transactions as recently as May, and multiple sources said that once executives became aware of this potentially illegal activity it was reported to a federal agency that polices financial crimes. Joerg Eigendorf, a spokesperson for Deutsche Banks, said that the company was 'absolutely committed to cooperating with all relevant authorities.' The statement was also posted in full on the Deutsche Bank Twitter account 12 times in just five hours on Tuesday. 'Deutsche Bank is closely examining any business relationship with Jeffrey Epstein, and we are absolutely committed to cooperating with all relevant authorities,' it read. There is no detail on what crimes may have been committed, but it is known that this is not the the first time Epstein has bee in danger of being flagged. On previous occasions, anti-money laundering compliance officers and employees noticed suspicious transactions, including at least one in which Epstein moved funds overseas. Opps-tein:Epstein opened several dozen accounts at Deutsche Bank in the five years It is unclear however if these transactions were reported to federal agencies. Epstein had private-banking and wealth-management accounts, and both he and his companies had received loans from the financial institution in the past few years said sources. He went there after getting the boot by JP Morgan in 2013, five years after he entered a guilty plea to two charges related to the soliciting of a minor for sex. Deutsche executives struggled to shutter his accounts in the wake of Julie Brown's bombastic expose last November due to the fact that its private-banking division had opened several dozen accounts for Epstein and his businesses. Months later, one Deutsche Bank employee noted: 'Were still trying to get our arms around it.' Protective Order  by  ChrisSpargo  on Scribd Published by Associated Newspapers Ltd Part of the Daily Mail, The Mail on Sunday & Metro Media Group\""
      ]
     },
     "execution_count": 21,
     "metadata": {},
     "output_type": "execute_result"
    }
   ],
   "source": [
    "gdelt_subset_with_content.iloc[3].content"
   ]
  },
  {
   "cell_type": "code",
   "execution_count": 9,
   "metadata": {},
   "outputs": [],
   "source": [
    "gdelt_subset_with_content.to_csv(\"my_out.csv\")"
   ]
  },
  {
   "cell_type": "code",
   "execution_count": 29,
   "metadata": {},
   "outputs": [
    {
     "data": {
      "text/plain": [
       "'Angelina Jolie and Brad Pitt are legally single now, but their divorce proceedings are still ongoing. The ex-couple has many things to settle, including the division of their assets and the  custody of their kids . Recently, it has beenreported that Jolie will be giving a tell-all interview and sharing even the darkest details about her split from Brad Pitt. Based on the claim,the actress will go to the extent of revealing her ex-husbands drinking sprees and their nasty fights while still together. In a report that appeared on the Star Magazine titled Angie Tells All: Love, Regrets & Divorcing Brad, it was said that Jolie is ready to open up and tell everything about her and Pitts separation. The 44-year-old Hollywood star will also talk about Jennifer Aniston and how she feels about being branded as a  homewrecker . Shes leaving no stone unturned, and its been incredibly cathartic for her, the so-called insider told the magazine. She will tell-all about Brads drinking, their constant fighting and the fact that she felt angry for years before filing for divorce. More on the topic involving Aniston, the source said that Jolie is not happy that shes also being called a black widow when Pitt left the Friends actress to be with her. The label is being used to describe someone who made a guy fall in love with her then lose interest and breaks up with him, and Jolie is bothered by this. She wants the world to know that Jen didnt appreciate what she had with Brad, the source alleged. Angie doesnt feel sorry for Jen one bit, and shes going to tell everyone how she couldnt help but seduce Brad on the set of Mr. & Mrs. Smith when things between them began heating up. However, the  gossip police publication  refuted this report due to suspicious details. It pointed out that the tabloid did not even state where, when and with whom Jolie is planning to give her tell-all story. The unnamed sources mentioned in the story are also unreliable because most of the things that they shared are common knowledge about the Mr. And Mrs. Smith actors. Gossip Cop stated that this is not the first time that the said tabloid published false reports about Pitt and Jolie, soit cant really be trusted. In fact, most of the stories that appeared there were fabricated and did not really happen.  2019 Latin Times LLC. All Rights Reserved'"
      ]
     },
     "execution_count": 29,
     "metadata": {},
     "output_type": "execute_result"
    }
   ],
   "source": [
    "gdelt_subset_with_content.iloc[0][\"content\"]"
   ]
  },
  {
   "cell_type": "code",
   "execution_count": 3,
   "metadata": {},
   "outputs": [],
   "source": [
    "import gdelt\n",
    "gd1 = gdelt.gdelt(version=1)"
   ]
  },
  {
   "cell_type": "code",
   "execution_count": 4,
   "metadata": {},
   "outputs": [],
   "source": [
    "results1 = gd1.Search(['2016 11 01'],table='events',coverage=True).head()"
   ]
  },
  {
   "cell_type": "code",
   "execution_count": 12,
   "metadata": {},
   "outputs": [
    {
     "data": {
      "text/html": [
       "<div>\n",
       "<style scoped>\n",
       "    .dataframe tbody tr th:only-of-type {\n",
       "        vertical-align: middle;\n",
       "    }\n",
       "\n",
       "    .dataframe tbody tr th {\n",
       "        vertical-align: top;\n",
       "    }\n",
       "\n",
       "    .dataframe thead th {\n",
       "        text-align: right;\n",
       "    }\n",
       "</style>\n",
       "<table border=\"1\" class=\"dataframe\">\n",
       "  <thead>\n",
       "    <tr style=\"text-align: right;\">\n",
       "      <th></th>\n",
       "      <th>GLOBALEVENTID</th>\n",
       "      <th>SQLDATE</th>\n",
       "      <th>MonthYear</th>\n",
       "      <th>Year</th>\n",
       "      <th>FractionDate</th>\n",
       "      <th>Actor1Code</th>\n",
       "      <th>Actor1Name</th>\n",
       "      <th>Actor1CountryCode</th>\n",
       "      <th>Actor1KnownGroupCode</th>\n",
       "      <th>Actor1EthnicCode</th>\n",
       "      <th>...</th>\n",
       "      <th>Actor2Geo_FeatureID</th>\n",
       "      <th>ActionGeo_Type</th>\n",
       "      <th>ActionGeo_FullName</th>\n",
       "      <th>ActionGeo_CountryCode</th>\n",
       "      <th>ActionGeo_ADM1Code</th>\n",
       "      <th>ActionGeo_Lat</th>\n",
       "      <th>ActionGeo_Long</th>\n",
       "      <th>ActionGeo_FeatureID</th>\n",
       "      <th>DATEADDED</th>\n",
       "      <th>SOURCEURL</th>\n",
       "    </tr>\n",
       "  </thead>\n",
       "  <tbody>\n",
       "    <tr>\n",
       "      <th>0</th>\n",
       "      <td>594536616</td>\n",
       "      <td>20151102</td>\n",
       "      <td>201511</td>\n",
       "      <td>2015</td>\n",
       "      <td>2015.8274</td>\n",
       "      <td>NaN</td>\n",
       "      <td>NaN</td>\n",
       "      <td>NaN</td>\n",
       "      <td>NaN</td>\n",
       "      <td>NaN</td>\n",
       "      <td>...</td>\n",
       "      <td>1213680</td>\n",
       "      <td>3</td>\n",
       "      <td>Montgomery County, Pennsylvania, United States</td>\n",
       "      <td>US</td>\n",
       "      <td>USPA</td>\n",
       "      <td>40.3754</td>\n",
       "      <td>-75.4999</td>\n",
       "      <td>1213680</td>\n",
       "      <td>20161101</td>\n",
       "      <td>http://www.cbs5az.com/story/33518127/cosby-wan...</td>\n",
       "    </tr>\n",
       "    <tr>\n",
       "      <th>1</th>\n",
       "      <td>594536617</td>\n",
       "      <td>20151102</td>\n",
       "      <td>201511</td>\n",
       "      <td>2015</td>\n",
       "      <td>2015.8274</td>\n",
       "      <td>NaN</td>\n",
       "      <td>NaN</td>\n",
       "      <td>NaN</td>\n",
       "      <td>NaN</td>\n",
       "      <td>NaN</td>\n",
       "      <td>...</td>\n",
       "      <td>UT</td>\n",
       "      <td>2</td>\n",
       "      <td>Utah, United States</td>\n",
       "      <td>US</td>\n",
       "      <td>USUT</td>\n",
       "      <td>40.1135</td>\n",
       "      <td>-111.8540</td>\n",
       "      <td>UT</td>\n",
       "      <td>20161101</td>\n",
       "      <td>http://www.sltrib.com/news/4527203-155/trial-b...</td>\n",
       "    </tr>\n",
       "    <tr>\n",
       "      <th>2</th>\n",
       "      <td>594536618</td>\n",
       "      <td>20151102</td>\n",
       "      <td>201511</td>\n",
       "      <td>2015</td>\n",
       "      <td>2015.8274</td>\n",
       "      <td>AUSLEG</td>\n",
       "      <td>AUSTRALIA</td>\n",
       "      <td>AUS</td>\n",
       "      <td>NaN</td>\n",
       "      <td>NaN</td>\n",
       "      <td>...</td>\n",
       "      <td>NaN</td>\n",
       "      <td>4</td>\n",
       "      <td>Adelaide, South Australia, Australia</td>\n",
       "      <td>AS</td>\n",
       "      <td>AS05</td>\n",
       "      <td>-34.9333</td>\n",
       "      <td>138.6000</td>\n",
       "      <td>-1555188</td>\n",
       "      <td>20161101</td>\n",
       "      <td>http://www.watoday.com.au/federal-politics/pol...</td>\n",
       "    </tr>\n",
       "    <tr>\n",
       "      <th>3</th>\n",
       "      <td>594536619</td>\n",
       "      <td>20151102</td>\n",
       "      <td>201511</td>\n",
       "      <td>2015</td>\n",
       "      <td>2015.8274</td>\n",
       "      <td>CAN</td>\n",
       "      <td>CANADA</td>\n",
       "      <td>CAN</td>\n",
       "      <td>NaN</td>\n",
       "      <td>NaN</td>\n",
       "      <td>...</td>\n",
       "      <td>NaN</td>\n",
       "      <td>4</td>\n",
       "      <td>Sylvan Lake, Alberta, Canada</td>\n",
       "      <td>CA</td>\n",
       "      <td>CA01</td>\n",
       "      <td>52.3000</td>\n",
       "      <td>-114.0830</td>\n",
       "      <td>-574467</td>\n",
       "      <td>20161101</td>\n",
       "      <td>http://calgaryherald.com/news/local-news/veter...</td>\n",
       "    </tr>\n",
       "    <tr>\n",
       "      <th>4</th>\n",
       "      <td>594536620</td>\n",
       "      <td>20151102</td>\n",
       "      <td>201511</td>\n",
       "      <td>2015</td>\n",
       "      <td>2015.8274</td>\n",
       "      <td>CHN</td>\n",
       "      <td>CHINA</td>\n",
       "      <td>CHN</td>\n",
       "      <td>NaN</td>\n",
       "      <td>NaN</td>\n",
       "      <td>...</td>\n",
       "      <td>-2679652</td>\n",
       "      <td>4</td>\n",
       "      <td>Beijing, Beijing, China</td>\n",
       "      <td>CH</td>\n",
       "      <td>CH22</td>\n",
       "      <td>39.9289</td>\n",
       "      <td>116.3880</td>\n",
       "      <td>-1898541</td>\n",
       "      <td>20161101</td>\n",
       "      <td>http://www.businesstimes.com.sg/government-eco...</td>\n",
       "    </tr>\n",
       "  </tbody>\n",
       "</table>\n",
       "<p>5 rows × 59 columns</p>\n",
       "</div>"
      ],
      "text/plain": [
       "   GLOBALEVENTID   SQLDATE  MonthYear  Year  FractionDate Actor1Code  \\\n",
       "0      594536616  20151102     201511  2015     2015.8274        NaN   \n",
       "1      594536617  20151102     201511  2015     2015.8274        NaN   \n",
       "2      594536618  20151102     201511  2015     2015.8274     AUSLEG   \n",
       "3      594536619  20151102     201511  2015     2015.8274        CAN   \n",
       "4      594536620  20151102     201511  2015     2015.8274        CHN   \n",
       "\n",
       "  Actor1Name Actor1CountryCode Actor1KnownGroupCode Actor1EthnicCode  \\\n",
       "0        NaN               NaN                  NaN              NaN   \n",
       "1        NaN               NaN                  NaN              NaN   \n",
       "2  AUSTRALIA               AUS                  NaN              NaN   \n",
       "3     CANADA               CAN                  NaN              NaN   \n",
       "4      CHINA               CHN                  NaN              NaN   \n",
       "\n",
       "                         ...                         Actor2Geo_FeatureID  \\\n",
       "0                        ...                                     1213680   \n",
       "1                        ...                                          UT   \n",
       "2                        ...                                         NaN   \n",
       "3                        ...                                         NaN   \n",
       "4                        ...                                    -2679652   \n",
       "\n",
       "  ActionGeo_Type                              ActionGeo_FullName  \\\n",
       "0              3  Montgomery County, Pennsylvania, United States   \n",
       "1              2                             Utah, United States   \n",
       "2              4            Adelaide, South Australia, Australia   \n",
       "3              4                    Sylvan Lake, Alberta, Canada   \n",
       "4              4                         Beijing, Beijing, China   \n",
       "\n",
       "  ActionGeo_CountryCode ActionGeo_ADM1Code ActionGeo_Lat ActionGeo_Long  \\\n",
       "0                    US               USPA       40.3754       -75.4999   \n",
       "1                    US               USUT       40.1135      -111.8540   \n",
       "2                    AS               AS05      -34.9333       138.6000   \n",
       "3                    CA               CA01       52.3000      -114.0830   \n",
       "4                    CH               CH22       39.9289       116.3880   \n",
       "\n",
       "  ActionGeo_FeatureID DATEADDED  \\\n",
       "0             1213680  20161101   \n",
       "1                  UT  20161101   \n",
       "2            -1555188  20161101   \n",
       "3             -574467  20161101   \n",
       "4            -1898541  20161101   \n",
       "\n",
       "                                           SOURCEURL  \n",
       "0  http://www.cbs5az.com/story/33518127/cosby-wan...  \n",
       "1  http://www.sltrib.com/news/4527203-155/trial-b...  \n",
       "2  http://www.watoday.com.au/federal-politics/pol...  \n",
       "3  http://calgaryherald.com/news/local-news/veter...  \n",
       "4  http://www.businesstimes.com.sg/government-eco...  \n",
       "\n",
       "[5 rows x 59 columns]"
      ]
     },
     "execution_count": 12,
     "metadata": {},
     "output_type": "execute_result"
    }
   ],
   "source": [
    "results1"
   ]
  },
  {
   "cell_type": "code",
   "execution_count": 13,
   "metadata": {},
   "outputs": [],
   "source": [
    "results_content = scrap(results1, 'events')"
   ]
  },
  {
   "cell_type": "code",
   "execution_count": 15,
   "metadata": {},
   "outputs": [
    {
     "data": {
      "text/plain": [
       "pandas.core.series.Series"
      ]
     },
     "execution_count": 15,
     "metadata": {},
     "output_type": "execute_result"
    }
   ],
   "source": [
    "type(results_content)"
   ]
  },
  {
   "cell_type": "code",
   "execution_count": 18,
   "metadata": {
    "scrolled": true
   },
   "outputs": [
    {
     "data": {
      "text/plain": [
       "array([594536617, 20151102, 201511, 2015, 2015.8274, nan, nan, nan, nan,\n",
       "       nan, nan, nan, nan, nan, nan, 'USA', 'UTAH', 'USA', nan, nan, nan,\n",
       "       nan, nan, nan, nan, 1, '112', ' Accuse, not specified below',\n",
       "       '112', '11', 3, -2.0, 10, 1, 10, -9.83606557377045, 0, nan, nan,\n",
       "       nan, nan, nan, nan, 2, 'Utah, United States', 'US', 'USUT',\n",
       "       40.1135, -111.854, 'UT', 2, 'Utah, United States', 'US', 'USUT',\n",
       "       40.1135, -111.854, 'UT', 20161101,\n",
       "       'http://www.sltrib.com/news/4527203-155/trial-begins-for-utah-man-charged',\n",
       "       ' Trial begins for Utah man charged in beating death of his sister\\'s boyfriend  - The Salt Lake Tribune  Defendant was trying to find out whether his sister was struck by victim, attorney says.    By Jessica Miller  The Salt Lake Tribune               This is an archived article that was published on sltrib.com in 2016, and information in the article may be outdated. It is provided only for personal research purposes and may not be reprinted.   Trial started Monday for a Utah man accused of killing his sister\\'s boyfriend during a fistfight last year.  Cole Garrett Pedersen, 26, is charged in 3rd District Court with second-degree felony manslaughter, accused of delivering the fatal blows to 24-year-old Blake Burningham on Aug. 29, 2015. A jury selected Monday will decide whether Pedersen was justified in fighting Burningham. Prosecutors told jurors that Burningham never had a chance to fight back after a scuffle broke out between the two men outside a Herriman home.  \"He didn\\'t raise a hand in his own defense,\" said prosecutor Nathanial Sanders. \"He didn\\'t raise a hand to strike Cole.\" The fight, attorneys said, was over whether Burningham\\'s girlfriend  who is Pedersen\\'s sister  was struck while she was trying to split up a fight between Burningham and his own brother earlier that night. Pedersen\\'s attorney, Carl Anderson, called the fight between Pedersen and Burningham \"unavoidable,\" saying his client told Burningham several times that he didn\\'t want to fight him before punches were thrown. Pedersen was trying to find out whether his younger sister had been struck by her boyfriend of four years, Anderson said. \"It\\'s wasn\\'t Cole showing up and attacking Blake,\" Anderson said. \"[It was], \\'I need to find out if my sister is going to be safe.\\' And it escalated unavoidably.\" Pedersen went to Burningham\\'s home near 5900 West and Moon Shadow Drive (13820 South) after his sister called him and said she had been hit by her boyfriend and needed a ride.  \"He confronted Blake,\" Sanders told jurors. \"They were standing face-to-face. [Pedersen] struck [Burningham] in the face. That strike lay Blake onto the ground. He didn\\'t move from that point. Cole knelt over Blake and continued to strike him.\" Anderson said both men initially swung their fists, but missed each other before Pedersen connected with Burningham\\'s head. He told jurors that after the fight, Pedersen didn\\'t flee  but stayed at the Herriman home until police and paramedics arrived. \"That\\'s not how somebody aggressive acts,\" Anderson said.  Burningham was put on life support at an area hospital, but died the next day. A Utah medical examiner concluded that Burningham died from blunt force trauma to the head, noting that the man suffered a broken nose and bruising in the mouth, along with bruising on the left of his head and face. Pedersen\\'s trial is expected to continue through this week.       '],\n",
       "      dtype=object)"
      ]
     },
     "execution_count": 18,
     "metadata": {},
     "output_type": "execute_result"
    }
   ],
   "source": [
    "results_content[1]"
   ]
  },
  {
   "cell_type": "markdown",
   "metadata": {},
   "source": [
    "__Let's try scraping with spark__"
   ]
  },
  {
   "cell_type": "code",
   "execution_count": null,
   "metadata": {},
   "outputs": [],
   "source": []
  }
 ],
 "metadata": {
  "kernelspec": {
   "display_name": "Python 3",
   "language": "python",
   "name": "python3"
  },
  "language_info": {
   "codemirror_mode": {
    "name": "ipython",
    "version": 3
   },
   "file_extension": ".py",
   "mimetype": "text/x-python",
   "name": "python",
   "nbconvert_exporter": "python",
   "pygments_lexer": "ipython3",
   "version": "3.6.5"
  }
 },
 "nbformat": 4,
 "nbformat_minor": 2
}
