{
 "cells": [
  {
   "cell_type": "code",
   "execution_count": 24,
   "metadata": {},
   "outputs": [
    {
     "name": "stdout",
     "output_type": "stream",
     "text": [
      "<class 'numpy.ndarray'> [[0. 0. 0.]\n",
      " [0. 0. 0.]\n",
      " [0. 0. 0.]] 0.0\n",
      "[0. 0. 0.] [[0. 0. 0.]\n",
      " [0. 0. 0.]\n",
      " [0. 0. 0.]]\n"
     ]
    },
    {
     "data": {
      "text/html": [
       "<div>\n",
       "<style scoped>\n",
       "    .dataframe tbody tr th:only-of-type {\n",
       "        vertical-align: middle;\n",
       "    }\n",
       "\n",
       "    .dataframe tbody tr th {\n",
       "        vertical-align: top;\n",
       "    }\n",
       "\n",
       "    .dataframe thead th {\n",
       "        text-align: right;\n",
       "    }\n",
       "</style>\n",
       "<table border=\"1\" class=\"dataframe\">\n",
       "  <thead>\n",
       "    <tr style=\"text-align: right;\">\n",
       "      <th></th>\n",
       "      <th>col</th>\n",
       "    </tr>\n",
       "  </thead>\n",
       "  <tbody>\n",
       "    <tr>\n",
       "      <td>0</td>\n",
       "      <td>[a, b]</td>\n",
       "    </tr>\n",
       "    <tr>\n",
       "      <td>1</td>\n",
       "      <td>[a, c]</td>\n",
       "    </tr>\n",
       "  </tbody>\n",
       "</table>\n",
       "</div>"
      ],
      "text/plain": [
       "      col\n",
       "0  [a, b]\n",
       "1  [a, c]"
      ]
     },
     "execution_count": 24,
     "metadata": {},
     "output_type": "execute_result"
    }
   ],
   "source": [
    "import numpy as np\n",
    "\n",
    "mat = np.zeros((3,3))\n",
    "\n",
    "print(type(mat),mat, mat[1,1])\n",
    "\n",
    "vec = np.ones((3))\n",
    "\n",
    "print(5 * np.matmul(vec,mat), mat + mat)\n",
    "\n",
    "import pandas as pd\n",
    "\n",
    "df = pd.DataFrame({'col':[['a','b'],['a','c']]})\n",
    "\n",
    "df.head(2)\n",
    "\n",
    "#dic = {i:}\n",
    "\n",
    "# for i in len(df):\n",
    "#     for j in len(df):\n",
    "#         mat[i,j] = "
   ]
  },
  {
   "cell_type": "code",
   "execution_count": 13,
   "metadata": {},
   "outputs": [
    {
     "name": "stdout",
     "output_type": "stream",
     "text": [
      "0    a\n",
      "Name: col1, dtype: object   col1 col2\n",
      "0    a    a\n",
      "1    a    b <class 'pandas.core.series.Series'>\n"
     ]
    },
    {
     "data": {
      "text/html": [
       "<div>\n",
       "<style scoped>\n",
       "    .dataframe tbody tr th:only-of-type {\n",
       "        vertical-align: middle;\n",
       "    }\n",
       "\n",
       "    .dataframe tbody tr th {\n",
       "        vertical-align: top;\n",
       "    }\n",
       "\n",
       "    .dataframe thead th {\n",
       "        text-align: right;\n",
       "    }\n",
       "</style>\n",
       "<table border=\"1\" class=\"dataframe\">\n",
       "  <thead>\n",
       "    <tr style=\"text-align: right;\">\n",
       "      <th></th>\n",
       "      <th>col1</th>\n",
       "      <th>col2</th>\n",
       "    </tr>\n",
       "  </thead>\n",
       "  <tbody>\n",
       "    <tr>\n",
       "      <td>1</td>\n",
       "      <td>a</td>\n",
       "      <td>b</td>\n",
       "    </tr>\n",
       "  </tbody>\n",
       "</table>\n",
       "</div>"
      ],
      "text/plain": [
       "  col1 col2\n",
       "1    a    b"
      ]
     },
     "execution_count": 13,
     "metadata": {},
     "output_type": "execute_result"
    }
   ],
   "source": [
    "df = pd.DataFrame({'col1':['a','a'], 'col2':['a','b']})\n",
    "\n",
    "g = df['col1'].drop_duplicates()\n",
    "\n",
    "print(g, df, type(df['col1']))\n",
    "\n",
    "df[df['col2'] == 'b']"
   ]
  },
  {
   "cell_type": "code",
   "execution_count": 26,
   "metadata": {},
   "outputs": [
    {
     "name": "stdout",
     "output_type": "stream",
     "text": [
      "   num1  num2\n",
      "0     1     6\n",
      "1     2     5\n",
      "2     3     4\n",
      "0     4\n",
      "1     8\n",
      "2    12\n",
      "dtype: int64 <class 'pandas.core.series.Series'>\n"
     ]
    },
    {
     "data": {
      "text/plain": [
       "24"
      ]
     },
     "execution_count": 26,
     "metadata": {},
     "output_type": "execute_result"
    }
   ],
   "source": [
    "df = pd.DataFrame({'num':[1,2,3],\"not_num\":['a','b','c']})\n",
    "\n",
    "df.sum(axis = 0)['num']\n",
    "\n",
    "df = pd.DataFrame({'num1':[1,2,3], 'num2':[6,5,4]})\n",
    "\n",
    "df1 = pd.DataFrame({'num':[4,4,4]})\n",
    "\n",
    "print(df.sort_values('num2', ascending = False))\n",
    "\n",
    "x = df.num1*df1.num\n",
    "\n",
    "print(x,type(x))\n",
    "\n",
    "x.sum()"
   ]
  },
  {
   "cell_type": "code",
   "execution_count": 27,
   "metadata": {},
   "outputs": [
    {
     "data": {
      "text/plain": [
       "array([[0., 0.],\n",
       "       [0., 0.],\n",
       "       [0., 0.]])"
      ]
     },
     "execution_count": 27,
     "metadata": {},
     "output_type": "execute_result"
    }
   ],
   "source": [
    "x = np.array([2]*4)\n",
    "\n",
    "y = np.array([1]*4)\n",
    "\n",
    "x - y\n",
    "\n",
    "\n",
    "a = np.zeros((3,3))\n",
    "\n",
    "\n",
    "np.delete(a,2,1)"
   ]
  }
 ],
 "metadata": {
  "kernelspec": {
   "display_name": "Python 3",
   "language": "python",
   "name": "python3"
  },
  "language_info": {
   "codemirror_mode": {
    "name": "ipython",
    "version": 3
   },
   "file_extension": ".py",
   "mimetype": "text/x-python",
   "name": "python",
   "nbconvert_exporter": "python",
   "pygments_lexer": "ipython3",
   "version": "3.6.7"
  }
 },
 "nbformat": 4,
 "nbformat_minor": 2
}
