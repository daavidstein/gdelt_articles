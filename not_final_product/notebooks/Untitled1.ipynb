{
 "cells": [
  {
   "cell_type": "code",
   "execution_count": 8,
   "metadata": {},
   "outputs": [],
   "source": [
    "prev_state = list(range(53))\n",
    "\n",
    "encoded_dict = {x:x for x in range(53)}\n",
    "\n",
    "shuffles = 1\n",
    "\n",
    "import random\n",
    "\n",
    "def swap_n_mapping(prev_state, encoded_dict, shuffles):\n",
    "    \"\"\"\n",
    "    Swaps two items in a list n times.\n",
    "\n",
    "    :param prev_state:\n",
    "        The previous code translation list.\n",
    "\n",
    "    :param encoded_dict:\n",
    "        A dictionary with the encoded symbols and their indices\n",
    "\n",
    "    :param shuffles: int\n",
    "        Number of times to swap\n",
    "\n",
    "    :return:\n",
    "        A new,\n",
    "    \"\"\"\n",
    "    mapping = prev_state.copy()\n",
    "    for i in range(shuffles):\n",
    "        encoded_indices = range(len(encoded_dict))\n",
    "        chosen_encoded_indices = random.sample(encoded_indices,5)\n",
    "        mapping_copy = mapping.copy()\n",
    "        for j in range(5):\n",
    "            mapping[chosen_encoded_indices[j]] = mapping.copy()[chosen_encoded_indices[j - 1]]\n",
    "#         mapping[chosen_encoded_indices[0]], mapping[chosen_encoded_indices[1]] = \\\n",
    "#             mapping[chosen_encoded_indices[1]], mapping[chosen_encoded_indices[0]]\n",
    "    return mapping\n"
   ]
  },
  {
   "cell_type": "code",
   "execution_count": 13,
   "metadata": {},
   "outputs": [
    {
     "name": "stdout",
     "output_type": "stream",
     "text": [
      "[37, 10, 32, 35, 23]\n",
      "[0, 1, 2, 3, 4, 5, 6, 7, 8, 9, 23, 11, 12, 13, 14, 15, 16, 17, 18, 19, 20, 21, 22, 23, 24, 25, 26, 27, 28, 29, 30, 31, 23, 33, 34, 23, 36, 23, 38, 39, 40, 41, 42, 43, 44, 45, 46, 47, 48, 49, 50, 51, 52]\n"
     ]
    }
   ],
   "source": [
    "mapping = list(range(53))\n",
    "encoded_dict = {x:x for x in range(53)}\n",
    "    \n",
    "encoded_indices = range(len(encoded_dict))\n",
    "chosen_encoded_indices = random.sample(encoded_indices,5)\n",
    "print(chosen_encoded_indices)\n",
    "mapping_copy = mapping.copy()\n",
    "for j in range(5):\n",
    "    mapping[chosen_encoded_indices[j]] = mapping.copy()[chosen_encoded_indices[j - 1]]\n",
    "            \n",
    "print(mapping)"
   ]
  },
  {
   "cell_type": "code",
   "execution_count": 9,
   "metadata": {},
   "outputs": [
    {
     "data": {
      "text/plain": [
       "[0,\n",
       " 1,\n",
       " 2,\n",
       " 3,\n",
       " 4,\n",
       " 26,\n",
       " 6,\n",
       " 7,\n",
       " 8,\n",
       " 9,\n",
       " 10,\n",
       " 11,\n",
       " 12,\n",
       " 13,\n",
       " 14,\n",
       " 15,\n",
       " 16,\n",
       " 17,\n",
       " 18,\n",
       " 19,\n",
       " 26,\n",
       " 21,\n",
       " 22,\n",
       " 23,\n",
       " 24,\n",
       " 25,\n",
       " 26,\n",
       " 29,\n",
       " 29,\n",
       " 29,\n",
       " 29,\n",
       " 31,\n",
       " 32,\n",
       " 33,\n",
       " 34,\n",
       " 35,\n",
       " 36,\n",
       " 37,\n",
       " 38,\n",
       " 39,\n",
       " 40,\n",
       " 29,\n",
       " 42,\n",
       " 43,\n",
       " 44,\n",
       " 45,\n",
       " 46,\n",
       " 47,\n",
       " 48,\n",
       " 49,\n",
       " 50,\n",
       " 51,\n",
       " 52]"
      ]
     },
     "execution_count": 9,
     "metadata": {},
     "output_type": "execute_result"
    }
   ],
   "source": [
    "swap_n_mapping(list(range(53)), {x:x for x in range(53)}, 2)"
   ]
  },
  {
   "cell_type": "code",
   "execution_count": null,
   "metadata": {},
   "outputs": [],
   "source": []
  }
 ],
 "metadata": {
  "kernelspec": {
   "display_name": "Python 3",
   "language": "python",
   "name": "python3"
  },
  "language_info": {
   "codemirror_mode": {
    "name": "ipython",
    "version": 3
   },
   "file_extension": ".py",
   "mimetype": "text/x-python",
   "name": "python",
   "nbconvert_exporter": "python",
   "pygments_lexer": "ipython3",
   "version": "3.6.7"
  }
 },
 "nbformat": 4,
 "nbformat_minor": 2
}
