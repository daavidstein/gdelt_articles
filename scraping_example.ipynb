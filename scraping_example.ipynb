{
 "cells": [
  {
   "cell_type": "code",
   "execution_count": 25,
   "metadata": {},
   "outputs": [],
   "source": [
    "import pandas as pd"
   ]
  },
  {
   "cell_type": "code",
   "execution_count": 26,
   "metadata": {},
   "outputs": [],
   "source": [
    "from get_content import scrap"
   ]
  },
  {
   "cell_type": "code",
   "execution_count": 27,
   "metadata": {},
   "outputs": [],
   "source": [
    "gdelt = pd.read_csv(\"GDELT_events.csv\")"
   ]
  },
  {
   "cell_type": "code",
   "execution_count": 28,
   "metadata": {},
   "outputs": [],
   "source": [
    "gdelt_subset_with_content = scrap(gdelt.head(20))"
   ]
  },
  {
   "cell_type": "code",
   "execution_count": 5,
   "metadata": {},
   "outputs": [
    {
     "data": {
      "text/plain": [
       "Index(['id', 'originating_namespace', 'originating_id', 'group_id', 'actor1',\n",
       "       'actor2', 'action', 'occurred', 'source', 'created_at', 'modified_at'],\n",
       "      dtype='object')"
      ]
     },
     "execution_count": 5,
     "metadata": {},
     "output_type": "execute_result"
    }
   ],
   "source": [
    "gdelt.columns"
   ]
  },
  {
   "cell_type": "code",
   "execution_count": 6,
   "metadata": {},
   "outputs": [
    {
     "data": {
      "text/plain": [
       "Index(['id', 'originating_namespace', 'originating_id', 'group_id', 'actor1',\n",
       "       'actor2', 'action', 'occurred', 'source', 'created_at', 'modified_at',\n",
       "       'content'],\n",
       "      dtype='object')"
      ]
     },
     "execution_count": 6,
     "metadata": {},
     "output_type": "execute_result"
    }
   ],
   "source": [
    "gdelt_subset_with_content.columns"
   ]
  },
  {
   "cell_type": "code",
   "execution_count": 7,
   "metadata": {},
   "outputs": [
    {
     "data": {
      "text/plain": [
       "0     Angelina Jolie and Brad Pitt are legally singl...\n",
       "1     The Kingswood College band is undertaking a to...\n",
       "2     MINSK, 26 July (BelTA)  The Petrus Brovka Bela...\n",
       "3     By  Chris Spargo For Dailymail.com      |     ...\n",
       "4                                                    NA\n",
       "5                                                    NA\n",
       "6     Please   purchase a subscription to continue r...\n",
       "7     Facebook - Times of Central Asia BISHKEK (TCA)...\n",
       "8     Tuesday 17 September 2019 By  ,     A no-deal ...\n",
       "9     Northern Irelands new Secretary of State has p...\n",
       "10                                                   NA\n",
       "11    ISLAMABAD (Dunya News)  Turkish President Rece...\n",
       "12    ISLAMABAD (Dunya News)  Turkish President Rece...\n",
       "13    Wash those hands! Especially if you work or pl...\n",
       "14    Tuesday 17 September 2019 By  ,     A no-deal ...\n",
       "15    Tuesday 17 September 2019 By  ,     A no-deal ...\n",
       "16    MONTGOMERY, Ala. (WSFA) - An east Alabama truc...\n",
       "17    Settings Cancel Set Have an existing account? ...\n",
       "18    Have an existing account? Already have a subsc...\n",
       "19    Some sun this morning with increasing clouds t...\n",
       "Name: content, dtype: object"
      ]
     },
     "execution_count": 7,
     "metadata": {},
     "output_type": "execute_result"
    }
   ],
   "source": [
    "gdelt_subset_with_content[\"content\"]"
   ]
  },
  {
   "cell_type": "markdown",
   "metadata": {},
   "source": [
    "__note: some entries (such as the fourth one above) will be empty due to the source server blocking us__"
   ]
  },
  {
   "cell_type": "code",
   "execution_count": 21,
   "metadata": {},
   "outputs": [
    {
     "data": {
      "text/plain": [
       "\"By  Chris Spargo For Dailymail.com      |     2 View   comments A federal judge signed a strict protective order on Thursday, instructing Jeffrey Epstein and his counsel to not share any information about the case with non-vital third parties. Judge Richard Berman wrote in his opinion that any evidence or discovery obtained by the defense from prosecutors 'is not authorized to be disclosed to the public or disclosed beyond that which is necessary for the defense of this action.' This goes for certain documents in particular which 'would impede, if prematurely disclosed, the Governments ongoing investigation of uncharged individuals.' That suggests that a number of people closer to Epstein could be called ion to provide testimony or even evidence in the case. Air up there:Jeffery Epstein's pilots have been issued subpoenas by federal prosecutors in his sex trafficking case (pilot Larry Visoski at the reins of the Lolita Express above) Federal prosecutors have subpoenaed the pilots who worked for Epstein the  Wall Street Journal reported on Friday. The lawyer for one of the pilots confirmed that his client had received notice of a grand jury subpoena soon after Epstein was arrested at Teterboro Airport earlier this month. David Rodgers, Larry Visoski, Larry Morrison and Bill Hammond are among the men who have been named as Epstein's pilots in previous court filings. It is Rodgers who maintained the flight logs between 1997 and 2005 that were previously released more than a decade ago during the criminal investigation in Palm Beach and subsequent lawsuits. Lawyers for some of the victims in Florida have stated however that some of the logs are incomplete, and omit the names of underage girls. These pilots could also name fellow guests who rode on the planes, or the locations of Epstein's overseas accounts. It was revealed earlier this week that Epstein managed to move money out of the country earlier this year from accounts he had at Deutsche Bank - despite the company severing all ties with the pedophile. The New York Times  reports that even baking officials failed to realize the possible financial crimes being committed by Epstein until after the fact, believing that the company had closed out all his accounts late last year. Deutsche Bank now wants to make sure that none of the money being moved by Epstein was used to fund or in any way support the sex trafficking of underage females. Epstein was making transactions as recently as May, and multiple sources said that once executives became aware of this potentially illegal activity it was reported to a federal agency that polices financial crimes. Joerg Eigendorf, a spokesperson for Deutsche Banks, said that the company was 'absolutely committed to cooperating with all relevant authorities.' The statement was also posted in full on the Deutsche Bank Twitter account 12 times in just five hours on Tuesday. 'Deutsche Bank is closely examining any business relationship with Jeffrey Epstein, and we are absolutely committed to cooperating with all relevant authorities,' it read. There is no detail on what crimes may have been committed, but it is known that this is not the the first time Epstein has bee in danger of being flagged. On previous occasions, anti-money laundering compliance officers and employees noticed suspicious transactions, including at least one in which Epstein moved funds overseas. Opps-tein:Epstein opened several dozen accounts at Deutsche Bank in the five years It is unclear however if these transactions were reported to federal agencies. Epstein had private-banking and wealth-management accounts, and both he and his companies had received loans from the financial institution in the past few years said sources. He went there after getting the boot by JP Morgan in 2013, five years after he entered a guilty plea to two charges related to the soliciting of a minor for sex. Deutsche executives struggled to shutter his accounts in the wake of Julie Brown's bombastic expose last November due to the fact that its private-banking division had opened several dozen accounts for Epstein and his businesses. Months later, one Deutsche Bank employee noted: 'Were still trying to get our arms around it.' Protective Order  by  ChrisSpargo  on Scribd Published by Associated Newspapers Ltd Part of the Daily Mail, The Mail on Sunday & Metro Media Group\""
      ]
     },
     "execution_count": 21,
     "metadata": {},
     "output_type": "execute_result"
    }
   ],
   "source": [
    "gdelt_subset_with_content.iloc[3].content"
   ]
  },
  {
   "cell_type": "code",
   "execution_count": 9,
   "metadata": {},
   "outputs": [],
   "source": [
    "gdelt_subset_with_content.to_csv(\"my_out.csv\")"
   ]
  },
  {
   "cell_type": "code",
   "execution_count": 29,
   "metadata": {},
   "outputs": [
    {
     "data": {
      "text/plain": [
       "'Angelina Jolie and Brad Pitt are legally single now, but their divorce proceedings are still ongoing. The ex-couple has many things to settle, including the division of their assets and the  custody of their kids . Recently, it has beenreported that Jolie will be giving a tell-all interview and sharing even the darkest details about her split from Brad Pitt. Based on the claim,the actress will go to the extent of revealing her ex-husbands drinking sprees and their nasty fights while still together. In a report that appeared on the Star Magazine titled Angie Tells All: Love, Regrets & Divorcing Brad, it was said that Jolie is ready to open up and tell everything about her and Pitts separation. The 44-year-old Hollywood star will also talk about Jennifer Aniston and how she feels about being branded as a  homewrecker . Shes leaving no stone unturned, and its been incredibly cathartic for her, the so-called insider told the magazine. She will tell-all about Brads drinking, their constant fighting and the fact that she felt angry for years before filing for divorce. More on the topic involving Aniston, the source said that Jolie is not happy that shes also being called a black widow when Pitt left the Friends actress to be with her. The label is being used to describe someone who made a guy fall in love with her then lose interest and breaks up with him, and Jolie is bothered by this. She wants the world to know that Jen didnt appreciate what she had with Brad, the source alleged. Angie doesnt feel sorry for Jen one bit, and shes going to tell everyone how she couldnt help but seduce Brad on the set of Mr. & Mrs. Smith when things between them began heating up. However, the  gossip police publication  refuted this report due to suspicious details. It pointed out that the tabloid did not even state where, when and with whom Jolie is planning to give her tell-all story. The unnamed sources mentioned in the story are also unreliable because most of the things that they shared are common knowledge about the Mr. And Mrs. Smith actors. Gossip Cop stated that this is not the first time that the said tabloid published false reports about Pitt and Jolie, soit cant really be trusted. In fact, most of the stories that appeared there were fabricated and did not really happen.  2019 Latin Times LLC. All Rights Reserved'"
      ]
     },
     "execution_count": 29,
     "metadata": {},
     "output_type": "execute_result"
    }
   ],
   "source": [
    "gdelt_subset_with_content.iloc[0][\"content\"]"
   ]
  }
 ],
 "metadata": {
  "kernelspec": {
   "display_name": "Python 3",
   "language": "python",
   "name": "python3"
  },
  "language_info": {
   "codemirror_mode": {
    "name": "ipython",
    "version": 3
   },
   "file_extension": ".py",
   "mimetype": "text/x-python",
   "name": "python",
   "nbconvert_exporter": "python",
   "pygments_lexer": "ipython3",
   "version": "3.6.5"
  }
 },
 "nbformat": 4,
 "nbformat_minor": 2
}
