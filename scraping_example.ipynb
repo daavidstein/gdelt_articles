{
 "cells": [
  {
   "cell_type": "code",
   "execution_count": 2,
   "metadata": {},
   "outputs": [],
   "source": [
    "import pandas as pd"
   ]
  },
  {
   "cell_type": "code",
   "execution_count": 1,
   "metadata": {},
   "outputs": [],
   "source": [
    "from get_content import scrap"
   ]
  },
  {
   "cell_type": "code",
   "execution_count": 3,
   "metadata": {},
   "outputs": [],
   "source": [
    "gdelt = pd.read_csv(\"GDELT_events.csv\")"
   ]
  },
  {
   "cell_type": "code",
   "execution_count": 4,
   "metadata": {},
   "outputs": [],
   "source": [
    "gdelt_subset_with_content = scrap(gdelt.head())"
   ]
  },
  {
   "cell_type": "code",
   "execution_count": 6,
   "metadata": {},
   "outputs": [
    {
     "data": {
      "text/plain": [
       "0    Angelina Jolie and Brad Pitt are legally singl...\n",
       "1    The Kingswood College band is undertaking a to...\n",
       "2    MINSK, 26 July (BelTA)  The Petrus Brovka Bela...\n",
       "3    By       |     2 View   comments A federal jud...\n",
       "4                                                   NA\n",
       "Name: content, dtype: object"
      ]
     },
     "execution_count": 6,
     "metadata": {},
     "output_type": "execute_result"
    }
   ],
   "source": [
    "gdelt_subset_with_content[\"content\"]"
   ]
  },
  {
   "cell_type": "markdown",
   "metadata": {},
   "source": [
    "__note: some entries (such as the fourth one above) will be empty due to the source server blocking us__"
   ]
  },
  {
   "cell_type": "code",
   "execution_count": 7,
   "metadata": {},
   "outputs": [
    {
     "data": {
      "text/plain": [
       "'The Kingswood College band is undertaking a tour to the Western Cape during the August holidays and will be traveling to George, Mossel Bay, Gordons Bay, Somerset West and Cape Town. The Kingswood Band comprising of 32 players, 18 girls and 14 boys make up this tour group. Three of the touring members are still in the Junior School. The youngest member, Eva Vassiliou is only 10 years old and the two Junior School boys, Kwanda Ningiza and Realeboha Kao, are both in Grade 7. Our new Director of Music, Nici Coleman will also be going on the tour. She is a trumpet player and teaches all the brass pupils at the Kingswood Music School. Prior to joining Kingswood College, Coleman was the director of Music at Alexander Road High School in Port Elizabeth for 14 years before moving to Makhanda and taking up the position at Kingswood. The band performs in a number of concerts and other events throughout the year, and goes on tour most years. The bands performances are largely given in support of various community projects in the Makhanda area. This gives the musicians a chance to engage with communities by virtue of music. Since 2009, the Concert Band has played numerous concerts in aid of Hospice, with funds raised mainly going to Grahamstown Hospice as well as Sunshine Coast Hospice (Port Alfred) and occasionally other Hospice centres when on Tour. To date,  these events have raised nearly R160 000. Comments are closed.        The Rhodes University Community Engagement Division has launched Engagement in Action, a new podcast which aims to bring to life some of the many ways in which the University interacts with communities around it. Check it out below.'"
      ]
     },
     "execution_count": 7,
     "metadata": {},
     "output_type": "execute_result"
    }
   ],
   "source": [
    "gdelt_subset_with_content.iloc[1].content"
   ]
  }
 ],
 "metadata": {
  "kernelspec": {
   "display_name": "Python 3",
   "language": "python",
   "name": "python3"
  },
  "language_info": {
   "codemirror_mode": {
    "name": "ipython",
    "version": 3
   },
   "file_extension": ".py",
   "mimetype": "text/x-python",
   "name": "python",
   "nbconvert_exporter": "python",
   "pygments_lexer": "ipython3",
   "version": "3.6.5"
  }
 },
 "nbformat": 4,
 "nbformat_minor": 2
}
