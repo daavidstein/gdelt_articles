{
 "cells": [
  {
   "cell_type": "code",
   "execution_count": 2,
   "metadata": {},
   "outputs": [],
   "source": [
    "import pandas as pd"
   ]
  },
  {
   "cell_type": "code",
   "execution_count": 3,
   "metadata": {},
   "outputs": [],
   "source": [
    "from get_content import scrap"
   ]
  },
  {
   "cell_type": "code",
   "execution_count": 4,
   "metadata": {},
   "outputs": [],
   "source": [
    "gdelt = pd.read_csv(\"GDELT_events.csv\")"
   ]
  },
  {
   "cell_type": "code",
   "execution_count": 5,
   "metadata": {},
   "outputs": [],
   "source": [
    "gdelt_subset_with_content = scrap(gdelt.head(20))"
   ]
  },
  {
   "cell_type": "code",
   "execution_count": 7,
   "metadata": {},
   "outputs": [
    {
     "data": {
      "text/plain": [
       "Index(['id', 'originating_namespace', 'originating_id', 'group_id', 'actor1',\n",
       "       'actor2', 'action', 'occurred', 'source', 'created_at', 'modified_at'],\n",
       "      dtype='object')"
      ]
     },
     "execution_count": 7,
     "metadata": {},
     "output_type": "execute_result"
    }
   ],
   "source": [
    "gdelt.columns"
   ]
  },
  {
   "cell_type": "code",
   "execution_count": 9,
   "metadata": {},
   "outputs": [
    {
     "data": {
      "text/plain": [
       "Index(['id', 'originating_namespace', 'originating_id', 'group_id', 'actor1',\n",
       "       'actor2', 'action', 'occurred', 'source', 'created_at', 'modified_at',\n",
       "       'content'],\n",
       "      dtype='object')"
      ]
     },
     "execution_count": 9,
     "metadata": {},
     "output_type": "execute_result"
    }
   ],
   "source": [
    "gdelt_subset_with_content.columns"
   ]
  },
  {
   "cell_type": "code",
   "execution_count": 5,
   "metadata": {},
   "outputs": [
    {
     "data": {
      "text/plain": [
       "0    Angelina Jolie and Brad Pitt are legally singl...\n",
       "1    The Kingswood College band is undertaking a to...\n",
       "2    MINSK, 26 July (BelTA)  The Petrus Brovka Bela...\n",
       "3    By       |     2 View   comments A federal jud...\n",
       "4                                                   NA\n",
       "Name: content, dtype: object"
      ]
     },
     "execution_count": 5,
     "metadata": {},
     "output_type": "execute_result"
    }
   ],
   "source": [
    "gdelt_subset_with_content[\"content\"]"
   ]
  },
  {
   "cell_type": "markdown",
   "metadata": {},
   "source": [
    "__note: some entries (such as the fourth one above) will be empty due to the source server blocking us__"
   ]
  },
  {
   "cell_type": "code",
   "execution_count": 16,
   "metadata": {},
   "outputs": [
    {
     "data": {
      "text/plain": [
       "\"By       |     2 View   comments A federal judge signed a strict protective order on Thursday, instructing Jeffrey Epstein and his counsel to not share any information about the case with non-vital third parties. Judge Richard Berman wrote in his opinion that any evidence or discovery obtained by the defense from prosecutors 'is not authorized to be disclosed to the public or disclosed beyond that which is necessary for the defense of this action.' This goes for certain documents in particular which 'would impede, if prematurely disclosed, the Governments ongoing investigation of uncharged individuals.' That suggests that a number of people closer to Epstein could be called ion to provide testimony or even evidence in the case. Air up there:Jeffery Epstein's pilots have been issued subpoenas by federal prosecutors in his sex trafficking case (pilot Larry Visoski at the reins of the Lolita Express above) Federal prosecutors have subpoenaed the pilots who worked for Epstein the  reported on Friday. The lawyer for one of the pilots confirmed that his client had received notice of a grand jury subpoena soon after Epstein was arrested at Teterboro Airport earlier this month. David Rodgers, Larry Visoski, Larry Morrison and Bill Hammond are among the men who have been named as Epstein's pilots in previous court filings. It is Rodgers who maintained the flight logs between 1997 and 2005 that were previously released more than a decade ago during the criminal investigation in Palm Beach and subsequent lawsuits. Lawyers for some of the victims in Florida have stated however that some of the logs are incomplete, and omit the names of underage girls. These pilots could also name fellow guests who rode on the planes, or the locations of Epstein's overseas accounts. It was revealed earlier this week that Epstein managed to move money out of the country earlier this year from accounts he had at Deutsche Bank - despite the company severing all ties with the pedophile. reports that even baking officials failed to realize the possible financial crimes being committed by Epstein until after the fact, believing that the company had closed out all his accounts late last year. Deutsche Bank now wants to make sure that none of the money being moved by Epstein was used to fund or in any way support the sex trafficking of underage females. Epstein was making transactions as recently as May, and multiple sources said that once executives became aware of this potentially illegal activity it was reported to a federal agency that polices financial crimes. Joerg Eigendorf, a spokesperson for Deutsche Banks, said that the company was 'absolutely committed to cooperating with all relevant authorities.' The statement was also posted in full on the Deutsche Bank Twitter account 12 times in just five hours on Tuesday. 'Deutsche Bank is closely examining any business relationship with Jeffrey Epstein, and we are absolutely committed to cooperating with all relevant authorities,' it read. There is no detail on what crimes may have been committed, but it is known that this is not the the first time Epstein has bee in danger of being flagged. On previous occasions, anti-money laundering compliance officers and employees noticed suspicious transactions, including at least one in which Epstein moved funds overseas. Opps-tein:Epstein opened several dozen accounts at Deutsche Bank in the five years It is unclear however if these transactions were reported to federal agencies. Epstein had private-banking and wealth-management accounts, and both he and his companies had received loans from the financial institution in the past few years said sources. He went there after getting the boot by JP Morgan in 2013, five years after he entered a guilty plea to two charges related to the soliciting of a minor for sex. Deutsche executives struggled to shutter his accounts in the wake of Julie Brown's bombastic expose last November due to the fact that its private-banking division had opened several dozen accounts for Epstein and his businesses. Months later, one Deutsche Bank employee noted: 'Were still trying to get our arms around it.'  by   on Scribd Published by Associated Newspapers Ltd Part of the Daily Mail, The Mail on Sunday & Metro Media Group\""
      ]
     },
     "execution_count": 16,
     "metadata": {},
     "output_type": "execute_result"
    }
   ],
   "source": [
    "gdelt_subset_with_content.iloc[3].content"
   ]
  },
  {
   "cell_type": "code",
   "execution_count": 8,
   "metadata": {},
   "outputs": [],
   "source": [
    "gdelt_subset_with_content.to_csv(\"my_out.csv\")"
   ]
  }
 ],
 "metadata": {
  "kernelspec": {
   "display_name": "Python 3",
   "language": "python",
   "name": "python3"
  },
  "language_info": {
   "codemirror_mode": {
    "name": "ipython",
    "version": 3
   },
   "file_extension": ".py",
   "mimetype": "text/x-python",
   "name": "python",
   "nbconvert_exporter": "python",
   "pygments_lexer": "ipython3",
   "version": "3.6.5"
  }
 },
 "nbformat": 4,
 "nbformat_minor": 2
}
