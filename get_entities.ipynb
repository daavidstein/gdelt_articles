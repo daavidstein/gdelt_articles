{
 "cells": [
  {
   "cell_type": "code",
   "execution_count": 1,
   "metadata": {},
   "outputs": [],
   "source": [
    "import pandas as pd\n",
    "import flair\n",
    "from get_content import scrap"
   ]
  },
  {
   "cell_type": "code",
   "execution_count": 3,
   "metadata": {},
   "outputs": [],
   "source": [
    "gdelt = pd.read_csv(\"../../../Downloads/GDELT_events.csv\")"
   ]
  },
  {
   "cell_type": "code",
   "execution_count": 4,
   "metadata": {},
   "outputs": [],
   "source": [
    "gdelt_subset_with_content = scrap(gdelt.head(20))"
   ]
  },
  {
   "cell_type": "code",
   "execution_count": 9,
   "metadata": {},
   "outputs": [],
   "source": [
    "from flair.data import Sentence\n",
    "from segtok.segmenter import split_single"
   ]
  },
  {
   "cell_type": "code",
   "execution_count": 11,
   "metadata": {},
   "outputs": [],
   "source": [
    "gdss = gdelt_subset_with_content"
   ]
  },
  {
   "cell_type": "code",
   "execution_count": 12,
   "metadata": {},
   "outputs": [
    {
     "data": {
      "text/html": [
       "<div>\n",
       "<style scoped>\n",
       "    .dataframe tbody tr th:only-of-type {\n",
       "        vertical-align: middle;\n",
       "    }\n",
       "\n",
       "    .dataframe tbody tr th {\n",
       "        vertical-align: top;\n",
       "    }\n",
       "\n",
       "    .dataframe thead th {\n",
       "        text-align: right;\n",
       "    }\n",
       "</style>\n",
       "<table border=\"1\" class=\"dataframe\">\n",
       "  <thead>\n",
       "    <tr style=\"text-align: right;\">\n",
       "      <th></th>\n",
       "      <th>id</th>\n",
       "      <th>originating_namespace</th>\n",
       "      <th>originating_id</th>\n",
       "      <th>group_id</th>\n",
       "      <th>actor1</th>\n",
       "      <th>actor2</th>\n",
       "      <th>action</th>\n",
       "      <th>occurred</th>\n",
       "      <th>source</th>\n",
       "      <th>created_at</th>\n",
       "      <th>modified_at</th>\n",
       "      <th>content</th>\n",
       "    </tr>\n",
       "  </thead>\n",
       "  <tbody>\n",
       "    <tr>\n",
       "      <td>0</td>\n",
       "      <td>gdelt-861910158</td>\n",
       "      <td>gdelt</td>\n",
       "      <td>861910158</td>\n",
       "      <td>NaN</td>\n",
       "      <td>NaN</td>\n",
       "      <td>{'code': 'USA', 'name': 'UNITED STATES', 'loca...</td>\n",
       "      <td>{'code': '019', 'location': {'lat': 34.0983, '...</td>\n",
       "      <td>2019-07-26 17:30:00+00</td>\n",
       "      <td>https://www.latintimes.com/angelina-jolie-spil...</td>\n",
       "      <td>2019-07-29 20:21:18.880645+00</td>\n",
       "      <td>2019-07-29 20:21:18.880645+00</td>\n",
       "      <td>Angelina Jolie To Spill Ugly Details About Bra...</td>\n",
       "    </tr>\n",
       "    <tr>\n",
       "      <td>1</td>\n",
       "      <td>gdelt-861910190</td>\n",
       "      <td>gdelt</td>\n",
       "      <td>861910190</td>\n",
       "      <td>NaN</td>\n",
       "      <td>{'code': 'AFR', 'name': 'AFRICA', 'location': ...</td>\n",
       "      <td>NaN</td>\n",
       "      <td>{'code': '036', 'location': {'lat': -33.3042, ...</td>\n",
       "      <td>2019-07-26 17:30:00+00</td>\n",
       "      <td>https://www.grocotts.co.za/2019/07/26/kc-conce...</td>\n",
       "      <td>2019-07-29 20:21:18.949668+00</td>\n",
       "      <td>2019-07-29 20:21:18.949668+00</td>\n",
       "      <td>KC concert band gears up for Western Cape to...</td>\n",
       "    </tr>\n",
       "    <tr>\n",
       "      <td>2</td>\n",
       "      <td>gdelt-861910221</td>\n",
       "      <td>gdelt</td>\n",
       "      <td>861910221</td>\n",
       "      <td>NaN</td>\n",
       "      <td>{'code': 'BLR', 'name': 'BELARUSIAN', 'locatio...</td>\n",
       "      <td>{'code': 'UZB', 'name': 'UZBEKISTAN', 'locatio...</td>\n",
       "      <td>{'code': '084', 'location': {'lat': 41.707542,...</td>\n",
       "      <td>2019-07-26 17:30:00+00</td>\n",
       "      <td>https://eng.belta.by/society/view/belarusian-e...</td>\n",
       "      <td>2019-07-29 20:21:18.997309+00</td>\n",
       "      <td>2019-07-29 20:21:18.997309+00</td>\n",
       "      <td>Belarusian Encyclopedia publishing house relea...</td>\n",
       "    </tr>\n",
       "    <tr>\n",
       "      <td>3</td>\n",
       "      <td>gdelt-861910245</td>\n",
       "      <td>gdelt</td>\n",
       "      <td>861910245</td>\n",
       "      <td>NaN</td>\n",
       "      <td>{'code': 'BUS', 'name': 'COMPANY', 'location':...</td>\n",
       "      <td>{'code': 'GOV', 'name': 'AUTHORITIES', 'locati...</td>\n",
       "      <td>{'code': '051', 'location': {'lat': 42.1497, '...</td>\n",
       "      <td>2019-07-26 17:30:00+00</td>\n",
       "      <td>https://www.dailymail.co.uk/news/article-72905...</td>\n",
       "      <td>2019-07-29 20:21:18.997309+00</td>\n",
       "      <td>2019-07-29 20:21:18.997309+00</td>\n",
       "      <td>Jeffrey Epstein's famous guests on Lolita Expr...</td>\n",
       "    </tr>\n",
       "    <tr>\n",
       "      <td>4</td>\n",
       "      <td>NA</td>\n",
       "      <td>NA</td>\n",
       "      <td>NA</td>\n",
       "      <td>NA</td>\n",
       "      <td>NA</td>\n",
       "      <td>NA</td>\n",
       "      <td>NA</td>\n",
       "      <td>NA</td>\n",
       "      <td>NA</td>\n",
       "      <td>NA</td>\n",
       "      <td>NA</td>\n",
       "      <td>NA</td>\n",
       "    </tr>\n",
       "    <tr>\n",
       "      <td>5</td>\n",
       "      <td>gdelt-861910285</td>\n",
       "      <td>gdelt</td>\n",
       "      <td>861910285</td>\n",
       "      <td>NaN</td>\n",
       "      <td>{'code': 'CHR', 'name': 'CHRISTIAN', 'location...</td>\n",
       "      <td>{'code': 'GOV', 'name': 'PRESIDENT', 'location...</td>\n",
       "      <td>{'code': '0253', 'location': {'lat': 12.4904, ...</td>\n",
       "      <td>2019-07-26 17:30:00+00</td>\n",
       "      <td>https://dailypost.ng/2019/07/26/leah-sharibu-c...</td>\n",
       "      <td>2019-07-29 20:21:19.038424+00</td>\n",
       "      <td>2019-07-29 20:21:19.038424+00</td>\n",
       "      <td>Leah Sharibu: CAN breaks silence on rumoured d...</td>\n",
       "    </tr>\n",
       "    <tr>\n",
       "      <td>6</td>\n",
       "      <td>gdelt-861910324</td>\n",
       "      <td>gdelt</td>\n",
       "      <td>861910324</td>\n",
       "      <td>NaN</td>\n",
       "      <td>{'code': 'COP', 'name': 'POLICE', 'location': ...</td>\n",
       "      <td>{'code': 'USA', 'name': 'UNITED STATES', 'loca...</td>\n",
       "      <td>{'code': '180', 'location': {'lat': 39.828175,...</td>\n",
       "      <td>2019-07-26 17:30:00+00</td>\n",
       "      <td>https://www.unionleader.com/news/courts/former...</td>\n",
       "      <td>2019-07-29 20:21:19.0847+00</td>\n",
       "      <td>2019-07-29 20:21:19.0847+00</td>\n",
       "      <td>Innkeeper accused of assaulting couple fined $...</td>\n",
       "    </tr>\n",
       "    <tr>\n",
       "      <td>7</td>\n",
       "      <td>gdelt-861910360</td>\n",
       "      <td>gdelt</td>\n",
       "      <td>861910360</td>\n",
       "      <td>NaN</td>\n",
       "      <td>{'code': 'CVL', 'name': 'RESIDENTS', 'location...</td>\n",
       "      <td>{'code': 'KGZ', 'name': 'KYRGYZ', 'location': ...</td>\n",
       "      <td>{'code': '192', 'location': {'lat': 42.8617, '...</td>\n",
       "      <td>2019-07-26 17:30:00+00</td>\n",
       "      <td>https://www.timesca.com/index.php/news/21427-k...</td>\n",
       "      <td>2019-07-29 20:21:19.0847+00</td>\n",
       "      <td>2019-07-29 20:21:19.0847+00</td>\n",
       "      <td>Kyrgyzstan and Tajikistan presidents hold talk...</td>\n",
       "    </tr>\n",
       "    <tr>\n",
       "      <td>8</td>\n",
       "      <td>gdelt-861910465</td>\n",
       "      <td>gdelt</td>\n",
       "      <td>861910465</td>\n",
       "      <td>NaN</td>\n",
       "      <td>{'code': 'GBR', 'name': 'UNITED KINGDOM', 'loc...</td>\n",
       "      <td>NaN</td>\n",
       "      <td>{'code': '012', 'location': {'lat': 54.65, 'lo...</td>\n",
       "      <td>2019-07-26 17:30:00+00</td>\n",
       "      <td>https://www.independent.ie/breaking-news/irish...</td>\n",
       "      <td>2019-07-29 20:21:19.580238+00</td>\n",
       "      <td>2019-07-29 20:21:19.580238+00</td>\n",
       "      <td>Taoiseach: No-deal Brexit could lead to suppor...</td>\n",
       "    </tr>\n",
       "    <tr>\n",
       "      <td>9</td>\n",
       "      <td>gdelt-861910469</td>\n",
       "      <td>gdelt</td>\n",
       "      <td>861910469</td>\n",
       "      <td>NaN</td>\n",
       "      <td>{'code': 'GBR', 'name': 'UNITED KINGDOM', 'loc...</td>\n",
       "      <td>NaN</td>\n",
       "      <td>{'code': '044', 'location': {'lat': 54.5833, '...</td>\n",
       "      <td>2019-07-26 17:30:00+00</td>\n",
       "      <td>https://uk.news.yahoo.com/ni-secretary-pledges...</td>\n",
       "      <td>2019-07-29 20:21:19.625677+00</td>\n",
       "      <td>2019-07-29 20:21:19.625677+00</td>\n",
       "      <td>NI Secretary pledges to push as hard as I can ...</td>\n",
       "    </tr>\n",
       "    <tr>\n",
       "      <td>10</td>\n",
       "      <td>NA</td>\n",
       "      <td>NA</td>\n",
       "      <td>NA</td>\n",
       "      <td>NA</td>\n",
       "      <td>NA</td>\n",
       "      <td>NA</td>\n",
       "      <td>NA</td>\n",
       "      <td>NA</td>\n",
       "      <td>NA</td>\n",
       "      <td>NA</td>\n",
       "      <td>NA</td>\n",
       "      <td>NA</td>\n",
       "    </tr>\n",
       "    <tr>\n",
       "      <td>11</td>\n",
       "      <td>gdelt-861910542</td>\n",
       "      <td>gdelt</td>\n",
       "      <td>861910542</td>\n",
       "      <td>NaN</td>\n",
       "      <td>{'code': 'GOV', 'name': 'PRIME MINISTER', 'loc...</td>\n",
       "      <td>{'code': 'TUR', 'name': 'TURKEY', 'location': ...</td>\n",
       "      <td>{'code': '013', 'location': {'lat': 33.7, 'lon...</td>\n",
       "      <td>2019-07-26 17:30:00+00</td>\n",
       "      <td>http://dunyanews.tv/en/Pakistan/502254-PM-Imra...</td>\n",
       "      <td>2019-07-29 20:21:19.669093+00</td>\n",
       "      <td>2019-07-29 20:21:19.669093+00</td>\n",
       "      <td>PM Imran, Turkish President Erdogan speak over...</td>\n",
       "    </tr>\n",
       "    <tr>\n",
       "      <td>12</td>\n",
       "      <td>gdelt-861910545</td>\n",
       "      <td>gdelt</td>\n",
       "      <td>861910545</td>\n",
       "      <td>NaN</td>\n",
       "      <td>{'code': 'GOV', 'name': 'PRIME MINISTER', 'loc...</td>\n",
       "      <td>{'code': 'TURGOV', 'name': 'RECEP TAYYIP ERDOG...</td>\n",
       "      <td>{'code': '013', 'location': {'lat': 33.7, 'lon...</td>\n",
       "      <td>2019-07-26 17:30:00+00</td>\n",
       "      <td>http://dunyanews.tv/en/Pakistan/502254-PM-Imra...</td>\n",
       "      <td>2019-07-29 20:21:19.669093+00</td>\n",
       "      <td>2019-07-29 20:21:19.669093+00</td>\n",
       "      <td>PM Imran, Turkish President Erdogan speak over...</td>\n",
       "    </tr>\n",
       "    <tr>\n",
       "      <td>13</td>\n",
       "      <td>gdelt-861910566</td>\n",
       "      <td>gdelt</td>\n",
       "      <td>861910566</td>\n",
       "      <td>NaN</td>\n",
       "      <td>{'code': 'GOVHLH', 'name': 'HEALTH OFFICIAL', ...</td>\n",
       "      <td>{'code': 'EDU', 'name': 'SCHOOL', 'location': ...</td>\n",
       "      <td>{'code': '020', 'location': {'lat': 31.5502, '...</td>\n",
       "      <td>2019-07-26 17:30:00+00</td>\n",
       "      <td>https://us105fm.com/local-outbreak-of-whooping...</td>\n",
       "      <td>2019-07-29 20:21:19.669093+00</td>\n",
       "      <td>2019-07-29 20:21:19.669093+00</td>\n",
       "      <td>Local Outbreak of Whooping Cough Under Investi...</td>\n",
       "    </tr>\n",
       "    <tr>\n",
       "      <td>14</td>\n",
       "      <td>gdelt-861910592</td>\n",
       "      <td>gdelt</td>\n",
       "      <td>861910592</td>\n",
       "      <td>NaN</td>\n",
       "      <td>{'code': 'IRL', 'name': 'IRELAND', 'location':...</td>\n",
       "      <td>{'code': 'EDU', 'name': 'SCHOOL', 'location': ...</td>\n",
       "      <td>{'code': '043', 'location': {'lat': 54.65, 'lo...</td>\n",
       "      <td>2019-07-26 17:30:00+00</td>\n",
       "      <td>https://www.independent.ie/breaking-news/irish...</td>\n",
       "      <td>2019-07-29 20:21:19.7153+00</td>\n",
       "      <td>2019-07-29 20:21:19.7153+00</td>\n",
       "      <td>Taoiseach: No-deal Brexit could lead to suppor...</td>\n",
       "    </tr>\n",
       "    <tr>\n",
       "      <td>15</td>\n",
       "      <td>gdelt-861910598</td>\n",
       "      <td>gdelt</td>\n",
       "      <td>861910598</td>\n",
       "      <td>NaN</td>\n",
       "      <td>{'code': 'IRL', 'name': 'IRELAND', 'location':...</td>\n",
       "      <td>{'code': 'IGOEUREEC', 'name': 'THE EU', 'locat...</td>\n",
       "      <td>{'code': '057', 'location': {'lat': 54, 'lon':...</td>\n",
       "      <td>2019-07-26 17:30:00+00</td>\n",
       "      <td>https://www.independent.ie/breaking-news/irish...</td>\n",
       "      <td>2019-07-29 20:21:19.7153+00</td>\n",
       "      <td>2019-07-29 20:21:19.7153+00</td>\n",
       "      <td>Taoiseach: No-deal Brexit could lead to suppor...</td>\n",
       "    </tr>\n",
       "    <tr>\n",
       "      <td>16</td>\n",
       "      <td>gdelt-861910626</td>\n",
       "      <td>gdelt</td>\n",
       "      <td>861910626</td>\n",
       "      <td>NaN</td>\n",
       "      <td>{'code': 'JUD', 'name': 'ATTORNEY', 'location'...</td>\n",
       "      <td>{'code': 'EDU', 'name': 'STUDENT', 'location':...</td>\n",
       "      <td>{'code': '020', 'location': {'lat': 32.799, 'l...</td>\n",
       "      <td>2019-07-26 17:30:00+00</td>\n",
       "      <td>https://www.wsfa.com/2019/07/26/east-ala-truck...</td>\n",
       "      <td>2019-07-29 20:21:19.75892+00</td>\n",
       "      <td>2019-07-29 20:21:19.75892+00</td>\n",
       "      <td>East Ala. truck driving school owner bribed ex...</td>\n",
       "    </tr>\n",
       "    <tr>\n",
       "      <td>17</td>\n",
       "      <td>gdelt-861910639</td>\n",
       "      <td>gdelt</td>\n",
       "      <td>861910639</td>\n",
       "      <td>NaN</td>\n",
       "      <td>{'code': 'JUD', 'name': 'FEDERAL COURT', 'loca...</td>\n",
       "      <td>{'code': 'USAELI', 'name': 'BILL CLINTON', 'lo...</td>\n",
       "      <td>{'code': '0841', 'location': {'lat': 60, 'lon'...</td>\n",
       "      <td>2019-07-26 17:30:00+00</td>\n",
       "      <td>https://www.usatoday.com/story/news/politics/2...</td>\n",
       "      <td>2019-07-29 20:21:19.75892+00</td>\n",
       "      <td>2019-07-29 20:21:19.75892+00</td>\n",
       "      <td>Robert Mueller report: House lawsuit seeks gra...</td>\n",
       "    </tr>\n",
       "    <tr>\n",
       "      <td>18</td>\n",
       "      <td>gdelt-861910672</td>\n",
       "      <td>gdelt</td>\n",
       "      <td>861910672</td>\n",
       "      <td>NaN</td>\n",
       "      <td>{'code': 'LEG', 'name': 'LEGISLATURE', 'locati...</td>\n",
       "      <td>{'code': 'CVL', 'name': 'CONSTITUENT', 'locati...</td>\n",
       "      <td>{'code': '051', 'location': {'lat': 42.4501, '...</td>\n",
       "      <td>2019-07-26 17:30:00+00</td>\n",
       "      <td>https://www.stargazette.com/story/money/2019/0...</td>\n",
       "      <td>2019-07-29 20:21:19.804066+00</td>\n",
       "      <td>2019-07-29 20:21:19.804066+00</td>\n",
       "      <td>Want to comment about gas and electric increas...</td>\n",
       "    </tr>\n",
       "    <tr>\n",
       "      <td>19</td>\n",
       "      <td>gdelt-861910681</td>\n",
       "      <td>gdelt</td>\n",
       "      <td>861910681</td>\n",
       "      <td>NaN</td>\n",
       "      <td>{'code': 'LEG', 'name': 'LEGISLATURE', 'locati...</td>\n",
       "      <td>{'code': 'USA', 'name': 'TEXAS', 'location': {...</td>\n",
       "      <td>{'code': '114', 'location': {'lat': 31.106, 'l...</td>\n",
       "      <td>2019-07-26 17:30:00+00</td>\n",
       "      <td>https://www.mysoutex.com/karnes_countywide/new...</td>\n",
       "      <td>2019-07-29 20:21:19.804066+00</td>\n",
       "      <td>2019-07-29 20:21:19.804066+00</td>\n",
       "      <td>Top officials attempt to clarify new hemp law ...</td>\n",
       "    </tr>\n",
       "  </tbody>\n",
       "</table>\n",
       "</div>"
      ],
      "text/plain": [
       "                 id originating_namespace originating_id group_id  \\\n",
       "0   gdelt-861910158                 gdelt      861910158      NaN   \n",
       "1   gdelt-861910190                 gdelt      861910190      NaN   \n",
       "2   gdelt-861910221                 gdelt      861910221      NaN   \n",
       "3   gdelt-861910245                 gdelt      861910245      NaN   \n",
       "4                NA                    NA             NA       NA   \n",
       "5   gdelt-861910285                 gdelt      861910285      NaN   \n",
       "6   gdelt-861910324                 gdelt      861910324      NaN   \n",
       "7   gdelt-861910360                 gdelt      861910360      NaN   \n",
       "8   gdelt-861910465                 gdelt      861910465      NaN   \n",
       "9   gdelt-861910469                 gdelt      861910469      NaN   \n",
       "10               NA                    NA             NA       NA   \n",
       "11  gdelt-861910542                 gdelt      861910542      NaN   \n",
       "12  gdelt-861910545                 gdelt      861910545      NaN   \n",
       "13  gdelt-861910566                 gdelt      861910566      NaN   \n",
       "14  gdelt-861910592                 gdelt      861910592      NaN   \n",
       "15  gdelt-861910598                 gdelt      861910598      NaN   \n",
       "16  gdelt-861910626                 gdelt      861910626      NaN   \n",
       "17  gdelt-861910639                 gdelt      861910639      NaN   \n",
       "18  gdelt-861910672                 gdelt      861910672      NaN   \n",
       "19  gdelt-861910681                 gdelt      861910681      NaN   \n",
       "\n",
       "                                               actor1  \\\n",
       "0                                                 NaN   \n",
       "1   {'code': 'AFR', 'name': 'AFRICA', 'location': ...   \n",
       "2   {'code': 'BLR', 'name': 'BELARUSIAN', 'locatio...   \n",
       "3   {'code': 'BUS', 'name': 'COMPANY', 'location':...   \n",
       "4                                                  NA   \n",
       "5   {'code': 'CHR', 'name': 'CHRISTIAN', 'location...   \n",
       "6   {'code': 'COP', 'name': 'POLICE', 'location': ...   \n",
       "7   {'code': 'CVL', 'name': 'RESIDENTS', 'location...   \n",
       "8   {'code': 'GBR', 'name': 'UNITED KINGDOM', 'loc...   \n",
       "9   {'code': 'GBR', 'name': 'UNITED KINGDOM', 'loc...   \n",
       "10                                                 NA   \n",
       "11  {'code': 'GOV', 'name': 'PRIME MINISTER', 'loc...   \n",
       "12  {'code': 'GOV', 'name': 'PRIME MINISTER', 'loc...   \n",
       "13  {'code': 'GOVHLH', 'name': 'HEALTH OFFICIAL', ...   \n",
       "14  {'code': 'IRL', 'name': 'IRELAND', 'location':...   \n",
       "15  {'code': 'IRL', 'name': 'IRELAND', 'location':...   \n",
       "16  {'code': 'JUD', 'name': 'ATTORNEY', 'location'...   \n",
       "17  {'code': 'JUD', 'name': 'FEDERAL COURT', 'loca...   \n",
       "18  {'code': 'LEG', 'name': 'LEGISLATURE', 'locati...   \n",
       "19  {'code': 'LEG', 'name': 'LEGISLATURE', 'locati...   \n",
       "\n",
       "                                               actor2  \\\n",
       "0   {'code': 'USA', 'name': 'UNITED STATES', 'loca...   \n",
       "1                                                 NaN   \n",
       "2   {'code': 'UZB', 'name': 'UZBEKISTAN', 'locatio...   \n",
       "3   {'code': 'GOV', 'name': 'AUTHORITIES', 'locati...   \n",
       "4                                                  NA   \n",
       "5   {'code': 'GOV', 'name': 'PRESIDENT', 'location...   \n",
       "6   {'code': 'USA', 'name': 'UNITED STATES', 'loca...   \n",
       "7   {'code': 'KGZ', 'name': 'KYRGYZ', 'location': ...   \n",
       "8                                                 NaN   \n",
       "9                                                 NaN   \n",
       "10                                                 NA   \n",
       "11  {'code': 'TUR', 'name': 'TURKEY', 'location': ...   \n",
       "12  {'code': 'TURGOV', 'name': 'RECEP TAYYIP ERDOG...   \n",
       "13  {'code': 'EDU', 'name': 'SCHOOL', 'location': ...   \n",
       "14  {'code': 'EDU', 'name': 'SCHOOL', 'location': ...   \n",
       "15  {'code': 'IGOEUREEC', 'name': 'THE EU', 'locat...   \n",
       "16  {'code': 'EDU', 'name': 'STUDENT', 'location':...   \n",
       "17  {'code': 'USAELI', 'name': 'BILL CLINTON', 'lo...   \n",
       "18  {'code': 'CVL', 'name': 'CONSTITUENT', 'locati...   \n",
       "19  {'code': 'USA', 'name': 'TEXAS', 'location': {...   \n",
       "\n",
       "                                               action                occurred  \\\n",
       "0   {'code': '019', 'location': {'lat': 34.0983, '...  2019-07-26 17:30:00+00   \n",
       "1   {'code': '036', 'location': {'lat': -33.3042, ...  2019-07-26 17:30:00+00   \n",
       "2   {'code': '084', 'location': {'lat': 41.707542,...  2019-07-26 17:30:00+00   \n",
       "3   {'code': '051', 'location': {'lat': 42.1497, '...  2019-07-26 17:30:00+00   \n",
       "4                                                  NA                      NA   \n",
       "5   {'code': '0253', 'location': {'lat': 12.4904, ...  2019-07-26 17:30:00+00   \n",
       "6   {'code': '180', 'location': {'lat': 39.828175,...  2019-07-26 17:30:00+00   \n",
       "7   {'code': '192', 'location': {'lat': 42.8617, '...  2019-07-26 17:30:00+00   \n",
       "8   {'code': '012', 'location': {'lat': 54.65, 'lo...  2019-07-26 17:30:00+00   \n",
       "9   {'code': '044', 'location': {'lat': 54.5833, '...  2019-07-26 17:30:00+00   \n",
       "10                                                 NA                      NA   \n",
       "11  {'code': '013', 'location': {'lat': 33.7, 'lon...  2019-07-26 17:30:00+00   \n",
       "12  {'code': '013', 'location': {'lat': 33.7, 'lon...  2019-07-26 17:30:00+00   \n",
       "13  {'code': '020', 'location': {'lat': 31.5502, '...  2019-07-26 17:30:00+00   \n",
       "14  {'code': '043', 'location': {'lat': 54.65, 'lo...  2019-07-26 17:30:00+00   \n",
       "15  {'code': '057', 'location': {'lat': 54, 'lon':...  2019-07-26 17:30:00+00   \n",
       "16  {'code': '020', 'location': {'lat': 32.799, 'l...  2019-07-26 17:30:00+00   \n",
       "17  {'code': '0841', 'location': {'lat': 60, 'lon'...  2019-07-26 17:30:00+00   \n",
       "18  {'code': '051', 'location': {'lat': 42.4501, '...  2019-07-26 17:30:00+00   \n",
       "19  {'code': '114', 'location': {'lat': 31.106, 'l...  2019-07-26 17:30:00+00   \n",
       "\n",
       "                                               source  \\\n",
       "0   https://www.latintimes.com/angelina-jolie-spil...   \n",
       "1   https://www.grocotts.co.za/2019/07/26/kc-conce...   \n",
       "2   https://eng.belta.by/society/view/belarusian-e...   \n",
       "3   https://www.dailymail.co.uk/news/article-72905...   \n",
       "4                                                  NA   \n",
       "5   https://dailypost.ng/2019/07/26/leah-sharibu-c...   \n",
       "6   https://www.unionleader.com/news/courts/former...   \n",
       "7   https://www.timesca.com/index.php/news/21427-k...   \n",
       "8   https://www.independent.ie/breaking-news/irish...   \n",
       "9   https://uk.news.yahoo.com/ni-secretary-pledges...   \n",
       "10                                                 NA   \n",
       "11  http://dunyanews.tv/en/Pakistan/502254-PM-Imra...   \n",
       "12  http://dunyanews.tv/en/Pakistan/502254-PM-Imra...   \n",
       "13  https://us105fm.com/local-outbreak-of-whooping...   \n",
       "14  https://www.independent.ie/breaking-news/irish...   \n",
       "15  https://www.independent.ie/breaking-news/irish...   \n",
       "16  https://www.wsfa.com/2019/07/26/east-ala-truck...   \n",
       "17  https://www.usatoday.com/story/news/politics/2...   \n",
       "18  https://www.stargazette.com/story/money/2019/0...   \n",
       "19  https://www.mysoutex.com/karnes_countywide/new...   \n",
       "\n",
       "                       created_at                    modified_at  \\\n",
       "0   2019-07-29 20:21:18.880645+00  2019-07-29 20:21:18.880645+00   \n",
       "1   2019-07-29 20:21:18.949668+00  2019-07-29 20:21:18.949668+00   \n",
       "2   2019-07-29 20:21:18.997309+00  2019-07-29 20:21:18.997309+00   \n",
       "3   2019-07-29 20:21:18.997309+00  2019-07-29 20:21:18.997309+00   \n",
       "4                              NA                             NA   \n",
       "5   2019-07-29 20:21:19.038424+00  2019-07-29 20:21:19.038424+00   \n",
       "6     2019-07-29 20:21:19.0847+00    2019-07-29 20:21:19.0847+00   \n",
       "7     2019-07-29 20:21:19.0847+00    2019-07-29 20:21:19.0847+00   \n",
       "8   2019-07-29 20:21:19.580238+00  2019-07-29 20:21:19.580238+00   \n",
       "9   2019-07-29 20:21:19.625677+00  2019-07-29 20:21:19.625677+00   \n",
       "10                             NA                             NA   \n",
       "11  2019-07-29 20:21:19.669093+00  2019-07-29 20:21:19.669093+00   \n",
       "12  2019-07-29 20:21:19.669093+00  2019-07-29 20:21:19.669093+00   \n",
       "13  2019-07-29 20:21:19.669093+00  2019-07-29 20:21:19.669093+00   \n",
       "14    2019-07-29 20:21:19.7153+00    2019-07-29 20:21:19.7153+00   \n",
       "15    2019-07-29 20:21:19.7153+00    2019-07-29 20:21:19.7153+00   \n",
       "16   2019-07-29 20:21:19.75892+00   2019-07-29 20:21:19.75892+00   \n",
       "17   2019-07-29 20:21:19.75892+00   2019-07-29 20:21:19.75892+00   \n",
       "18  2019-07-29 20:21:19.804066+00  2019-07-29 20:21:19.804066+00   \n",
       "19  2019-07-29 20:21:19.804066+00  2019-07-29 20:21:19.804066+00   \n",
       "\n",
       "                                              content  \n",
       "0   Angelina Jolie To Spill Ugly Details About Bra...  \n",
       "1     KC concert band gears up for Western Cape to...  \n",
       "2   Belarusian Encyclopedia publishing house relea...  \n",
       "3   Jeffrey Epstein's famous guests on Lolita Expr...  \n",
       "4                                                  NA  \n",
       "5   Leah Sharibu: CAN breaks silence on rumoured d...  \n",
       "6   Innkeeper accused of assaulting couple fined $...  \n",
       "7   Kyrgyzstan and Tajikistan presidents hold talk...  \n",
       "8   Taoiseach: No-deal Brexit could lead to suppor...  \n",
       "9   NI Secretary pledges to push as hard as I can ...  \n",
       "10                                                 NA  \n",
       "11  PM Imran, Turkish President Erdogan speak over...  \n",
       "12  PM Imran, Turkish President Erdogan speak over...  \n",
       "13  Local Outbreak of Whooping Cough Under Investi...  \n",
       "14  Taoiseach: No-deal Brexit could lead to suppor...  \n",
       "15  Taoiseach: No-deal Brexit could lead to suppor...  \n",
       "16  East Ala. truck driving school owner bribed ex...  \n",
       "17  Robert Mueller report: House lawsuit seeks gra...  \n",
       "18  Want to comment about gas and electric increas...  \n",
       "19  Top officials attempt to clarify new hemp law ...  "
      ]
     },
     "execution_count": 12,
     "metadata": {},
     "output_type": "execute_result"
    }
   ],
   "source": [
    "gdss"
   ]
  },
  {
   "cell_type": "code",
   "execution_count": 15,
   "metadata": {},
   "outputs": [
    {
     "name": "stdout",
     "output_type": "stream",
     "text": [
      "2019-09-18 23:51:36,495 ACHTUNG: An empty Sentence was created! Are there empty strings in your dataset?\n",
      "2019-09-18 23:51:36,548 ACHTUNG: An empty Sentence was created! Are there empty strings in your dataset?\n",
      "2019-09-18 23:51:36,570 ACHTUNG: An empty Sentence was created! Are there empty strings in your dataset?\n",
      "2019-09-18 23:51:36,617 ACHTUNG: An empty Sentence was created! Are there empty strings in your dataset?\n"
     ]
    }
   ],
   "source": [
    "gdss['sentences']=gdss['content'].apply(lambda x:[Sentence(sent,use_tokenizer=True) for sent in split_single(x)])"
   ]
  },
  {
   "cell_type": "code",
   "execution_count": 17,
   "metadata": {},
   "outputs": [
    {
     "name": "stdout",
     "output_type": "stream",
     "text": [
      "2019-09-18 23:53:50,387 https://s3.eu-central-1.amazonaws.com/alan-nlp/resources/models-v0.4/NER-conll03-english/en-ner-conll03-v0.4.pt not found in cache, downloading to /var/folders/j4/5kll82nd1c1gc161jdwzr8100000gp/T/tmpanz41459\n"
     ]
    },
    {
     "name": "stderr",
     "output_type": "stream",
     "text": [
      "100%|██████████| 432197603/432197603 [01:00<00:00, 7099342.08B/s]"
     ]
    },
    {
     "name": "stdout",
     "output_type": "stream",
     "text": [
      "2019-09-18 23:54:51,945 copying /var/folders/j4/5kll82nd1c1gc161jdwzr8100000gp/T/tmpanz41459 to cache at /Users/Matthias/.flair/models/en-ner-conll03-v0.4.pt\n"
     ]
    },
    {
     "name": "stderr",
     "output_type": "stream",
     "text": [
      "\n"
     ]
    },
    {
     "name": "stdout",
     "output_type": "stream",
     "text": [
      "2019-09-18 23:54:57,618 removing temp file /var/folders/j4/5kll82nd1c1gc161jdwzr8100000gp/T/tmpanz41459\n",
      "2019-09-18 23:54:57,649 loading file /Users/Matthias/.flair/models/en-ner-conll03-v0.4.pt\n"
     ]
    }
   ],
   "source": [
    "from flair.models import SequenceTagger\n",
    "tagger = SequenceTagger.load('ner')"
   ]
  },
  {
   "cell_type": "code",
   "execution_count": 28,
   "metadata": {},
   "outputs": [],
   "source": [
    "#outdf=pd.DataFrame(columns=list(gdss.columns)+['sentence'])\n",
    "#for i in range(len(gdss['id'])):\n",
    "#    sents = list(gdss['sentences'])[i]\n",
    "#    tempdf = pd.DataFrame(columns=list(gdss.columns)+['sentence'])\n",
    "#    for col in gdss.columns:\n",
    "#        tempdf[col]=len(sents)*gdss[col][i]\n",
    "#    tempdf['sentence']=sents\n",
    "#    outdf.append(tempdf)\n",
    "#outdf"
   ]
  },
  {
   "cell_type": "code",
   "execution_count": 55,
   "metadata": {},
   "outputs": [],
   "source": [
    "outdf = pd.DataFrame(columns=list(gdss.columns)+['sentence'])\n",
    "\n",
    "for i in range(len(gdss['id'])):\n",
    "    sents = list(gdss['sentences'][i])\n",
    "    tempdf = pd.DataFrame(columns=list(outdf.columns))\n",
    "    for col in list(outdf.columns):\n",
    "        if col != 'sentence':\n",
    "            tempdf[col]=len(sents)*[gdss[col][i]]\n",
    "        else:\n",
    "            tempdf[col]=sents\n",
    "    outdf=outdf.append(tempdf)"
   ]
  },
  {
   "cell_type": "code",
   "execution_count": 77,
   "metadata": {},
   "outputs": [
    {
     "name": "stdout",
     "output_type": "stream",
     "text": [
      "2019-09-19 01:19:42,552 Ignore 1 sentence(s) with no tokens.\n",
      "2019-09-19 01:23:37,003 Ignore 1 sentence(s) with no tokens.\n",
      "2019-09-19 01:25:13,420 Ignore 1 sentence(s) with no tokens.\n",
      "2019-09-19 01:28:49,593 Ignore 1 sentence(s) with no tokens.\n"
     ]
    }
   ],
   "source": [
    "outents = outdf\n",
    "\n",
    "def getent(s):\n",
    "    tagger.predict(s)\n",
    "    return s.to_dict(tag_type='ner')['entities']\n",
    "\n",
    "outents['entities']=outents['sentence'].apply(getent)"
   ]
  },
  {
   "cell_type": "code",
   "execution_count": 80,
   "metadata": {},
   "outputs": [
    {
     "name": "stdout",
     "output_type": "stream",
     "text": [
      "2019-09-19 01:34:42,219 https://s3.eu-central-1.amazonaws.com/alan-nlp/resources/models-v0.4/release-ner-ontonotes-fast-0/en-ner-ontonotes-fast-v0.4.pt not found in cache, downloading to /var/folders/j4/5kll82nd1c1gc161jdwzr8100000gp/T/tmp2169q9b8\n"
     ]
    },
    {
     "name": "stderr",
     "output_type": "stream",
     "text": [
      "100%|██████████| 1331379415/1331379415 [03:12<00:00, 6913049.50B/s]"
     ]
    },
    {
     "name": "stdout",
     "output_type": "stream",
     "text": [
      "2019-09-19 01:37:55,564 copying /var/folders/j4/5kll82nd1c1gc161jdwzr8100000gp/T/tmp2169q9b8 to cache at /Users/Matthias/.flair/models/en-ner-ontonotes-fast-v0.4.pt\n"
     ]
    },
    {
     "name": "stderr",
     "output_type": "stream",
     "text": [
      "\n"
     ]
    },
    {
     "name": "stdout",
     "output_type": "stream",
     "text": [
      "2019-09-19 01:38:15,350 removing temp file /var/folders/j4/5kll82nd1c1gc161jdwzr8100000gp/T/tmp2169q9b8\n",
      "2019-09-19 01:38:15,415 loading file /Users/Matthias/.flair/models/en-ner-ontonotes-fast-v0.4.pt\n"
     ]
    }
   ],
   "source": [
    "tagger.fast = SequenceTagger.load('ner-ontonotes-fast')"
   ]
  },
  {
   "cell_type": "code",
   "execution_count": 88,
   "metadata": {},
   "outputs": [
    {
     "name": "stdout",
     "output_type": "stream",
     "text": [
      "2019-09-19 02:01:56,522 Ignore 1 sentence(s) with no tokens.\n",
      "2019-09-19 02:02:53,522 Ignore 1 sentence(s) with no tokens.\n",
      "2019-09-19 02:03:16,089 Ignore 1 sentence(s) with no tokens.\n",
      "2019-09-19 02:04:12,957 Ignore 1 sentence(s) with no tokens.\n"
     ]
    }
   ],
   "source": [
    "outents_onto = outdf\n",
    "\n",
    "def getent_onto(s):\n",
    "    tagger.fast.predict(s)\n",
    "    return s.to_dict(tag_type='ner')['entities']\n",
    "\n",
    "outents_onto['entities']=outents_onto['sentence'].apply(getent_onto)"
   ]
  },
  {
   "cell_type": "code",
   "execution_count": 89,
   "metadata": {},
   "outputs": [
    {
     "data": {
      "text/plain": [
       "[{'text': 'Angelina Jolie',\n",
       "  'start_pos': 0,\n",
       "  'end_pos': 14,\n",
       "  'type': 'PERSON',\n",
       "  'confidence': 0.7778224647045135},\n",
       " {'text': 'Brad Pitt',\n",
       "  'start_pos': 43,\n",
       "  'end_pos': 52,\n",
       "  'type': 'PERSON',\n",
       "  'confidence': 0.652693897485733},\n",
       " {'text': 'Angelina Jolie',\n",
       "  'start_pos': 77,\n",
       "  'end_pos': 91,\n",
       "  'type': 'PERSON',\n",
       "  'confidence': 0.9894905686378479},\n",
       " {'text': 'Brad Pitt',\n",
       "  'start_pos': 96,\n",
       "  'end_pos': 105,\n",
       "  'type': 'PERSON',\n",
       "  'confidence': 0.9928258657455444}]"
      ]
     },
     "execution_count": 89,
     "metadata": {},
     "output_type": "execute_result"
    }
   ],
   "source": [
    "list(outents_onto['entities'])[0]"
   ]
  },
  {
   "cell_type": "code",
   "execution_count": 90,
   "metadata": {},
   "outputs": [
    {
     "data": {
      "text/plain": [
       "Index(['id', 'originating_namespace', 'originating_id', 'group_id', 'actor1',\n",
       "       'actor2', 'action', 'occurred', 'source', 'created_at', 'modified_at',\n",
       "       'content', 'sentences', 'sentence', 'entities'],\n",
       "      dtype='object')"
      ]
     },
     "execution_count": 90,
     "metadata": {},
     "output_type": "execute_result"
    }
   ],
   "source": [
    "outdf.columns"
   ]
  },
  {
   "cell_type": "code",
   "execution_count": 107,
   "metadata": {},
   "outputs": [
    {
     "data": {
      "text/plain": [
       "['Angelina Jolie', 'Brad Pitt', 'Angelina Jolie', 'Brad Pitt']"
      ]
     },
     "execution_count": 107,
     "metadata": {},
     "output_type": "execute_result"
    }
   ],
   "source": [
    "[x['text'] for x in list(outdf.head(1)['entities'])[0]]"
   ]
  },
  {
   "cell_type": "code",
   "execution_count": 109,
   "metadata": {},
   "outputs": [
    {
     "name": "stdout",
     "output_type": "stream",
     "text": [
      "2019-09-19 02:46:36,897 Ignore 1 sentence(s) with no tokens.\n",
      "2019-09-19 02:47:34,170 Ignore 1 sentence(s) with no tokens.\n",
      "2019-09-19 02:47:56,836 Ignore 1 sentence(s) with no tokens.\n",
      "2019-09-19 02:48:54,978 Ignore 1 sentence(s) with no tokens.\n"
     ]
    }
   ],
   "source": [
    "clean_out = outdf\n",
    "\n",
    "def clean_ents(s):\n",
    "    tagger.fast.predict(s)\n",
    "    ents = s.to_dict(tag_type='ner')['entities']\n",
    "    return [x['text'] for x in ents]\n",
    "\n",
    "clean_out['entities']=clean_out['sentence'].apply(clean_ents)"
   ]
  },
  {
   "cell_type": "code",
   "execution_count": 110,
   "metadata": {},
   "outputs": [
    {
     "data": {
      "text/plain": [
       "0     [Angelina Jolie, Brad Pitt, Angelina Jolie, Br...\n",
       "1                                    [Jolie, Brad Pitt]\n",
       "2                                                    []\n",
       "3     [the Star Magazine, Angie Tells All: Love, Reg...\n",
       "4                         [Hollywood, Jennifer Aniston]\n",
       "                            ...                        \n",
       "29         [Aug. 1., Bexar County, Paxton, Legislature]\n",
       "30    [Legislature, the Texas Constitution, Legislat...\n",
       "31                                     [Trump, July 17]\n",
       "32    [Abbotts, July 10, Cameron, Hidalgo, Willacy, ...\n",
       "33                                      [up to $34,000]\n",
       "Name: entities, Length: 506, dtype: object"
      ]
     },
     "execution_count": 110,
     "metadata": {},
     "output_type": "execute_result"
    }
   ],
   "source": [
    "clean_out['entities']"
   ]
  },
  {
   "cell_type": "code",
   "execution_count": null,
   "metadata": {},
   "outputs": [],
   "source": []
  }
 ],
 "metadata": {
  "kernelspec": {
   "display_name": "Python 3",
   "language": "python",
   "name": "python3"
  },
  "language_info": {
   "codemirror_mode": {
    "name": "ipython",
    "version": 3
   },
   "file_extension": ".py",
   "mimetype": "text/x-python",
   "name": "python",
   "nbconvert_exporter": "python",
   "pygments_lexer": "ipython3",
   "version": "3.7.4"
  }
 },
 "nbformat": 4,
 "nbformat_minor": 2
}
